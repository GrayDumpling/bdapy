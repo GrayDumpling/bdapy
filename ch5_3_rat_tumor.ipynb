{
 "metadata": {
  "name": "",
  "signature": "sha256:e0b6b1d70b698bad1ba48e3a39da73a1fec2288e921fd05369b6015e40125a15"
 },
 "nbformat": 3,
 "nbformat_minor": 0,
 "worksheets": [
  {
   "cells": [
    {
     "cell_type": "markdown",
     "metadata": {},
     "source": [
      "# Hierarchical Bayesian Inference of Binomial Probabilities (BDA 5.3) #\n",
      "\n",
      "This notebook attempts to reproduce analysis in Chapter 5.3 of Bayesian Data Analysis (Gelman et al, 3rd Edition).  \n",
      "\n",
      "Here, we are given $J=71$ observations of binomial outcomes $(y_1,N_1), \\ldots, (y_J,N_J)$ where $y_j \\sim \\text{Bin}(N_j, \\theta_j)$.  We assume conjugate prior $\\theta_j \\sim \\text{Beta}(\\alpha,\\beta)$, and a \"reasonable\" hyperprior density $p(\\alpha,\\beta) \\propto (\\alpha+\\beta)^{-5/2}$; refer to the chapter regarding why this is a reasonable choice.  Given this hierarchical model, we perform fully Bayesian analysis."
     ]
    },
    {
     "cell_type": "code",
     "collapsed": false,
     "input": [
      "% pylab inline"
     ],
     "language": "python",
     "metadata": {},
     "outputs": [
      {
       "output_type": "stream",
       "stream": "stdout",
       "text": [
        "Populating the interactive namespace from numpy and matplotlib\n"
       ]
      }
     ],
     "prompt_number": 1
    },
    {
     "cell_type": "code",
     "collapsed": false,
     "input": [
      "# load data from Andrew's homepage\n",
      "from pandas import *\n",
      "tumor_df = read_csv(\"http://www.stat.columbia.edu/~gelman/book/data/rats.asc\",\n",
      "                    index_col=False, skiprows=2, delim_whitespace=True)"
     ],
     "language": "python",
     "metadata": {},
     "outputs": [],
     "prompt_number": 2
    },
    {
     "cell_type": "code",
     "collapsed": false,
     "input": [
      "# the data roughly looks like follows\n",
      "tumor_df.head(20)"
     ],
     "language": "python",
     "metadata": {},
     "outputs": [
      {
       "html": [
        "<div style=\"max-height:1000px;max-width:1500px;overflow:auto;\">\n",
        "<table border=\"1\" class=\"dataframe\">\n",
        "  <thead>\n",
        "    <tr style=\"text-align: right;\">\n",
        "      <th></th>\n",
        "      <th>y</th>\n",
        "      <th>N</th>\n",
        "    </tr>\n",
        "  </thead>\n",
        "  <tbody>\n",
        "    <tr>\n",
        "      <th>0 </th>\n",
        "      <td> 0</td>\n",
        "      <td> 20</td>\n",
        "    </tr>\n",
        "    <tr>\n",
        "      <th>1 </th>\n",
        "      <td> 0</td>\n",
        "      <td> 20</td>\n",
        "    </tr>\n",
        "    <tr>\n",
        "      <th>2 </th>\n",
        "      <td> 0</td>\n",
        "      <td> 20</td>\n",
        "    </tr>\n",
        "    <tr>\n",
        "      <th>3 </th>\n",
        "      <td> 0</td>\n",
        "      <td> 20</td>\n",
        "    </tr>\n",
        "    <tr>\n",
        "      <th>4 </th>\n",
        "      <td> 0</td>\n",
        "      <td> 20</td>\n",
        "    </tr>\n",
        "    <tr>\n",
        "      <th>5 </th>\n",
        "      <td> 0</td>\n",
        "      <td> 20</td>\n",
        "    </tr>\n",
        "    <tr>\n",
        "      <th>6 </th>\n",
        "      <td> 0</td>\n",
        "      <td> 20</td>\n",
        "    </tr>\n",
        "    <tr>\n",
        "      <th>7 </th>\n",
        "      <td> 0</td>\n",
        "      <td> 19</td>\n",
        "    </tr>\n",
        "    <tr>\n",
        "      <th>8 </th>\n",
        "      <td> 0</td>\n",
        "      <td> 19</td>\n",
        "    </tr>\n",
        "    <tr>\n",
        "      <th>9 </th>\n",
        "      <td> 0</td>\n",
        "      <td> 19</td>\n",
        "    </tr>\n",
        "    <tr>\n",
        "      <th>10</th>\n",
        "      <td> 0</td>\n",
        "      <td> 19</td>\n",
        "    </tr>\n",
        "    <tr>\n",
        "      <th>11</th>\n",
        "      <td> 0</td>\n",
        "      <td> 18</td>\n",
        "    </tr>\n",
        "    <tr>\n",
        "      <th>12</th>\n",
        "      <td> 0</td>\n",
        "      <td> 18</td>\n",
        "    </tr>\n",
        "    <tr>\n",
        "      <th>13</th>\n",
        "      <td> 0</td>\n",
        "      <td> 17</td>\n",
        "    </tr>\n",
        "    <tr>\n",
        "      <th>14</th>\n",
        "      <td> 1</td>\n",
        "      <td> 20</td>\n",
        "    </tr>\n",
        "    <tr>\n",
        "      <th>15</th>\n",
        "      <td> 1</td>\n",
        "      <td> 20</td>\n",
        "    </tr>\n",
        "    <tr>\n",
        "      <th>16</th>\n",
        "      <td> 1</td>\n",
        "      <td> 20</td>\n",
        "    </tr>\n",
        "    <tr>\n",
        "      <th>17</th>\n",
        "      <td> 1</td>\n",
        "      <td> 20</td>\n",
        "    </tr>\n",
        "    <tr>\n",
        "      <th>18</th>\n",
        "      <td> 1</td>\n",
        "      <td> 19</td>\n",
        "    </tr>\n",
        "    <tr>\n",
        "      <th>19</th>\n",
        "      <td> 1</td>\n",
        "      <td> 19</td>\n",
        "    </tr>\n",
        "  </tbody>\n",
        "</table>\n",
        "</div>"
       ],
       "metadata": {},
       "output_type": "pyout",
       "prompt_number": 3,
       "text": [
        "    y   N\n",
        "0   0  20\n",
        "1   0  20\n",
        "2   0  20\n",
        "3   0  20\n",
        "4   0  20\n",
        "5   0  20\n",
        "6   0  20\n",
        "7   0  19\n",
        "8   0  19\n",
        "9   0  19\n",
        "10  0  19\n",
        "11  0  18\n",
        "12  0  18\n",
        "13  0  17\n",
        "14  1  20\n",
        "15  1  20\n",
        "16  1  20\n",
        "17  1  20\n",
        "18  1  19\n",
        "19  1  19"
       ]
      }
     ],
     "prompt_number": 3
    },
    {
     "cell_type": "markdown",
     "metadata": {},
     "source": [
      "The marginal posterior distribution for hyperparameters ($\\alpha$ and $\\beta$) can be derived as the ratio of prior and posterior partition functions, multipled by the hyperparameter prior: (equation 5.8)\n",
      "$$\n",
      "p(\\alpha,\\beta \\mid y) = p(\\alpha,\\beta) \\prod_{j=1}^J \n",
      "    \\frac{\\Gamma(\\alpha+\\beta)}{\\Gamma(\\alpha)\\Gamma(\\beta)}\n",
      "    \\frac{\\Gamma(\\alpha+\\beta+n_j)}{\\Gamma(\\alpha+y_j) \\Gamma(\\beta+n_j-y_j)}\n",
      "$$\n",
      "Now let us plot the marginal posterior density.  As instructed in the book, here we reparametrize hyperparameters to be $\\log(\\frac \\alpha \\beta)$ and $\\log(\\alpha + \\beta)$.  As always, when computing a density function it is safer to do it in log-scale."
     ]
    },
    {
     "cell_type": "code",
     "collapsed": false,
     "input": [
      "from scipy.special import gammaln\n",
      "import numpy as np\n",
      "# calculate the log marginal hyperparamter posterior for each natural parameter value\n",
      "def log_hyperparam_posterior_helper(num_trials, num_successes, natural_1, natural_2):\n",
      "    '''\n",
      "    log of marginal posterior of hyperparameters (eq 5.8) in natural parameterization\n",
      "    ( log(alpha/beta) and log(alpha + beta) )\n",
      "    '''\n",
      "    assert(len(num_trials) == len(num_successes))\n",
      "    # calculate original parameters\n",
      "    beta = np.exp(natural_2) / (1.0 + np.exp(natural_1))\n",
      "    alpha = beta * np.exp(natural_1)\n",
      "    # now calculate the log density\n",
      "    log_prior = np.log(alpha) + np.log(beta) - 2.5 * np.log(alpha + beta)\n",
      "    # prior partition function part\n",
      "    log_posterior_1 = len(num_trials) * (gammaln(alpha + beta) - gammaln(alpha) - gammaln(beta))\n",
      "    # posterior partition function part\n",
      "    log_posterior_2 = sum(gammaln(alpha + num_successes) + gammaln(beta + num_trials - num_successes) - \n",
      "            gammaln(alpha + beta + num_trials))\n",
      "    return log_prior + log_posterior_1 + log_posterior_2\n",
      "# vectorize the function\n",
      "local_log_hyperparam_posterior = \\\n",
      "    np.vectorize(log_hyperparam_posterior_helper, otypes=[np.float], excluded=[0,1])"
     ],
     "language": "python",
     "metadata": {},
     "outputs": [],
     "prompt_number": 4
    },
    {
     "cell_type": "markdown",
     "metadata": {},
     "source": [
      "Now we calculate the marginal posterior density for hyperparameters on a grid of points and plot it."
     ]
    },
    {
     "cell_type": "code",
     "collapsed": false,
     "input": [
      "import pylab as pl\n",
      "import numpy as np\n",
      "grid_num = 64\n",
      "xmin = -2.3\n",
      "xmax = -1.3\n",
      "ymin = 1\n",
      "ymax = 5\n",
      "x = np.linspace(xmin, xmax, grid_num)\n",
      "y = np.linspace(ymin, ymax, grid_num)\n",
      "X, Y = np.meshgrid(x, y)\n",
      "log_Z = local_log_hyperparam_posterior(tumor_df['N'], tumor_df['y'], X,Y)\n",
      "max_log_Z = log_Z.max()\n",
      "Z = np.exp(log_Z - max_log_Z) * np.exp(max_log_Z)\n",
      "levels=np.exp(max_log_Z) * np.linspace(0.05, 0.95, 10)\n",
      "pl.axes().set_aspect((xmax-xmin)/(ymax-ymin))\n",
      "pl.contourf(X, Y, Z, 8, alpha=.75, cmap='jet', \n",
      "            levels=np.exp(max_log_Z) * np.concatenate(([0], np.linspace(0.05, 0.95, 10), [1])))\n",
      "pl.contour(X, Y, Z, 8, colors='black', linewidth=.5, levels=levels)\n",
      "pl.axes().set_xlabel(r'$\\log(\\alpha/\\beta)$')\n",
      "pl.axes().set_ylabel(r'$\\log(\\alpha + \\beta)$')"
     ],
     "language": "python",
     "metadata": {},
     "outputs": [
      {
       "metadata": {},
       "output_type": "pyout",
       "prompt_number": 5,
       "text": [
        "<matplotlib.text.Text at 0x1101e11d0>"
       ]
      },
      {
       "metadata": {},
       "output_type": "display_data",
       "png": "[encoded data removed]",
       "text": [
        "<matplotlib.figure.Figure at 0x10ca569d0>"
       ]
      }
     ],
     "prompt_number": 5
    },
    {
     "cell_type": "markdown",
     "metadata": {},
     "source": [
      "Above is the plot same to Figure 5.3 (a); Figure 5.2 can also be reproduced just by changing the range.  Now let us sample hyperparameters from the posterior distribution to generate Figure 5.3 (b), by approximating the posterior distribution as step functions on grid points."
     ]
    },
    {
     "cell_type": "code",
     "collapsed": false,
     "input": [
      "# seed the RNG\n",
      "np.random.seed(13531)\n",
      "# normalize the grid\n",
      "probs = np.ravel(Z)/np.sum(Z)\n",
      "# sample from the normalized distribution\n",
      "throws = np.random.choice(len(probs), 1000, p=probs)\n",
      "xs = x[throws % grid_num]\n",
      "ys = y[throws / grid_num]\n",
      "xgrid_size = (xmax-xmin)/(grid_num-1)\n",
      "ygrid_size = (ymax-ymin)/(grid_num-1)\n",
      "# add jittering\n",
      "xs += np.random.random(len(xs)) * xgrid_size - 0.5 * xgrid_size\n",
      "ys += np.random.random(len(ys)) * ygrid_size - 0.5 * ygrid_size\n",
      "pl.scatter(xs, ys, marker='.', s=1)\n",
      "pl.xlim(xmin, xmax)\n",
      "pl.ylim(ymin, ymax)\n",
      "pl.axes().set_aspect((xmax-xmin)/(ymax-ymin))\n",
      "pl.axes().set_xlabel(r'$\\log(\\alpha/\\beta)$')\n",
      "pl.axes().set_ylabel(r'$\\log(\\alpha + \\beta)$')\n",
      "pl.show()"
     ],
     "language": "python",
     "metadata": {},
     "outputs": [
      {
       "metadata": {},
       "output_type": "display_data",
       "png": "[encoded data removed]",
       "text": [
        "<matplotlib.figure.Figure at 0x10e337e50>"
       ]
      }
     ],
     "prompt_number": 6
    },
    {
     "cell_type": "markdown",
     "metadata": {},
     "source": [
      "Now, let us sample corresponding $\\theta_j$'s."
     ]
    },
    {
     "cell_type": "code",
     "collapsed": false,
     "input": [
      "# convert sampled natural parameters into original parameters\n",
      "betas = np.exp(ys) / (1.0 + np.exp(xs))\n",
      "alphas = betas * np.exp(xs)\n",
      "# assign an array to store sampled parameters\n",
      "thetas = np.zeros((len(tumor_df), len(alphas)))\n",
      "# do the sampling\n",
      "for i in range(len(alphas)):\n",
      "    for j in range(len(tumor_df)):\n",
      "        thetas[j][i] = np.random.beta(alphas[i] + tumor_df['y'][j], \n",
      "                                      betas[i] + tumor_df['N'][j] - tumor_df['y'][j])\n",
      "# calculate statistics of parameters\n",
      "theta_means = np.mean(thetas, axis=1)\n",
      "theta_2_5s = np.percentile(thetas, 2.5, axis=1)\n",
      "theta_97_5s = np.percentile(thetas, 97.5, axis=1)"
     ],
     "language": "python",
     "metadata": {},
     "outputs": [],
     "prompt_number": 7
    },
    {
     "cell_type": "markdown",
     "metadata": {},
     "source": [
      "Now let us draw Figure 5.4, which shows the 95% posterior intervals for each $\\theta_j$."
     ]
    },
    {
     "cell_type": "code",
     "collapsed": false,
     "input": [
      "mles = tumor_df['y']/tumor_df['N']\n",
      "# to reduce overlap, jitter\n",
      "jittered_mles = mles + np.random.uniform(low=-0.01, high=0.01, size=len(mles))\n",
      "ax = pl.scatter(jittered_mles, theta_means)\n",
      "for j in range(len(tumor_df)):\n",
      "    pl.plot([jittered_mles[j],jittered_mles[j]], [theta_2_5s[j], theta_97_5s[j]], color='k', linestyle='-', linewidth=1)\n",
      "pl.plot([0,0.5], [0,0.5], color='k', linestyle='-', linewidth=1)\n",
      "pl.xlim(-0.01,0.41)\n",
      "pl.ylim(-0.01,0.41)\n",
      "pl.axes().set_aspect('equal')\n",
      "pl.axes().set_xlabel(r'observed rate, $y_j/N_j$')\n",
      "pl.axes().set_ylabel(r'95% posterior interval for $\\theta_j$')\n",
      "pl.show()"
     ],
     "language": "python",
     "metadata": {},
     "outputs": [
      {
       "metadata": {},
       "output_type": "display_data",
       "png": "[encoded data removed]",
       "text": [
        "<matplotlib.figure.Figure at 0x10f222150>"
       ]
      }
     ],
     "prompt_number": 8
    }
   ],
   "metadata": {}
  }
 ]
}