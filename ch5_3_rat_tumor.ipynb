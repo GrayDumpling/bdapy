{
 "metadata": {
  "name": "",
  "signature": "sha256:1ce367d574b326bcafb787dad80f6441943d6bf6e4929b2d5b7d22c25180a5c9"
 },
 "nbformat": 3,
 "nbformat_minor": 0,
 "worksheets": [
  {
   "cells": [
    {
     "cell_type": "markdown",
     "metadata": {},
     "source": [
      "# Hierarchical Bayesian Inference of Binomial Probabilities (BDA 5.3) #\n",
      "\n",
      "This notebook attempts to reproduce plots in Chapter 5.3 of Bayesian Data Analysis (Gelman et al, 3rd Edition).  \n",
      "\n",
      "Here, we are given $J=71$ observations of binomial outcomes $(y_1,N_1), \\ldots, (y_J,N_J)$ where $y_j \\sim \\text{Bin}(N_j, \\theta_j)$.  We assume conjugate prior $\\theta_j \\sim \\text{Beta}(\\alpha,\\beta)$, and a \"reasonable\" hyperprior density $p(\\alpha,\\beta) \\propto (\\alpha+\\beta)^{-5/2}$, and try to perform fully Bayesian analysis on this hierarchical model."
     ]
    },
    {
     "cell_type": "code",
     "collapsed": false,
     "input": [
      "% pylab inline"
     ],
     "language": "python",
     "metadata": {},
     "outputs": [
      {
       "output_type": "stream",
       "stream": "stdout",
       "text": [
        "Populating the interactive namespace from numpy and matplotlib\n"
       ]
      }
     ],
     "prompt_number": 1
    },
    {
     "cell_type": "code",
     "collapsed": false,
     "input": [
      "# load data from Andrew's homepage\n",
      "from pandas import *\n",
      "tumor_df = read_csv(\"http://www.stat.columbia.edu/~gelman/book/data/rats.asc\",\n",
      "                    index_col=False, skiprows=2, delim_whitespace=True)"
     ],
     "language": "python",
     "metadata": {},
     "outputs": [],
     "prompt_number": 2
    },
    {
     "cell_type": "code",
     "collapsed": false,
     "input": [
      "# the data had some blank spaces; remove them\n",
      "tumor_df = tumor_df[['y','N']]"
     ],
     "language": "python",
     "metadata": {},
     "outputs": [],
     "prompt_number": 3
    },
    {
     "cell_type": "code",
     "collapsed": false,
     "input": [
      "# the data roughly looks like follows\n",
      "tumor_df.head(20)"
     ],
     "language": "python",
     "metadata": {},
     "outputs": [
      {
       "html": [
        "<div style=\"max-height:1000px;max-width:1500px;overflow:auto;\">\n",
        "<table border=\"1\" class=\"dataframe\">\n",
        "  <thead>\n",
        "    <tr style=\"text-align: right;\">\n",
        "      <th></th>\n",
        "      <th>y</th>\n",
        "      <th>N</th>\n",
        "    </tr>\n",
        "  </thead>\n",
        "  <tbody>\n",
        "    <tr>\n",
        "      <th>0 </th>\n",
        "      <td> 0</td>\n",
        "      <td> 20</td>\n",
        "    </tr>\n",
        "    <tr>\n",
        "      <th>1 </th>\n",
        "      <td> 0</td>\n",
        "      <td> 20</td>\n",
        "    </tr>\n",
        "    <tr>\n",
        "      <th>2 </th>\n",
        "      <td> 0</td>\n",
        "      <td> 20</td>\n",
        "    </tr>\n",
        "    <tr>\n",
        "      <th>3 </th>\n",
        "      <td> 0</td>\n",
        "      <td> 20</td>\n",
        "    </tr>\n",
        "    <tr>\n",
        "      <th>4 </th>\n",
        "      <td> 0</td>\n",
        "      <td> 20</td>\n",
        "    </tr>\n",
        "    <tr>\n",
        "      <th>5 </th>\n",
        "      <td> 0</td>\n",
        "      <td> 20</td>\n",
        "    </tr>\n",
        "    <tr>\n",
        "      <th>6 </th>\n",
        "      <td> 0</td>\n",
        "      <td> 20</td>\n",
        "    </tr>\n",
        "    <tr>\n",
        "      <th>7 </th>\n",
        "      <td> 0</td>\n",
        "      <td> 19</td>\n",
        "    </tr>\n",
        "    <tr>\n",
        "      <th>8 </th>\n",
        "      <td> 0</td>\n",
        "      <td> 19</td>\n",
        "    </tr>\n",
        "    <tr>\n",
        "      <th>9 </th>\n",
        "      <td> 0</td>\n",
        "      <td> 19</td>\n",
        "    </tr>\n",
        "    <tr>\n",
        "      <th>10</th>\n",
        "      <td> 0</td>\n",
        "      <td> 19</td>\n",
        "    </tr>\n",
        "    <tr>\n",
        "      <th>11</th>\n",
        "      <td> 0</td>\n",
        "      <td> 18</td>\n",
        "    </tr>\n",
        "    <tr>\n",
        "      <th>12</th>\n",
        "      <td> 0</td>\n",
        "      <td> 18</td>\n",
        "    </tr>\n",
        "    <tr>\n",
        "      <th>13</th>\n",
        "      <td> 0</td>\n",
        "      <td> 17</td>\n",
        "    </tr>\n",
        "    <tr>\n",
        "      <th>14</th>\n",
        "      <td> 1</td>\n",
        "      <td> 20</td>\n",
        "    </tr>\n",
        "    <tr>\n",
        "      <th>15</th>\n",
        "      <td> 1</td>\n",
        "      <td> 20</td>\n",
        "    </tr>\n",
        "    <tr>\n",
        "      <th>16</th>\n",
        "      <td> 1</td>\n",
        "      <td> 20</td>\n",
        "    </tr>\n",
        "    <tr>\n",
        "      <th>17</th>\n",
        "      <td> 1</td>\n",
        "      <td> 20</td>\n",
        "    </tr>\n",
        "    <tr>\n",
        "      <th>18</th>\n",
        "      <td> 1</td>\n",
        "      <td> 19</td>\n",
        "    </tr>\n",
        "    <tr>\n",
        "      <th>19</th>\n",
        "      <td> 1</td>\n",
        "      <td> 19</td>\n",
        "    </tr>\n",
        "  </tbody>\n",
        "</table>\n",
        "</div>"
       ],
       "metadata": {},
       "output_type": "pyout",
       "prompt_number": 4,
       "text": [
        "    y   N\n",
        "0   0  20\n",
        "1   0  20\n",
        "2   0  20\n",
        "3   0  20\n",
        "4   0  20\n",
        "5   0  20\n",
        "6   0  20\n",
        "7   0  19\n",
        "8   0  19\n",
        "9   0  19\n",
        "10  0  19\n",
        "11  0  18\n",
        "12  0  18\n",
        "13  0  17\n",
        "14  1  20\n",
        "15  1  20\n",
        "16  1  20\n",
        "17  1  20\n",
        "18  1  19\n",
        "19  1  19"
       ]
      }
     ],
     "prompt_number": 4
    },
    {
     "cell_type": "markdown",
     "metadata": {},
     "source": [
      "The marginal posterior distribution for hyperparameters can be derived as the ratio of prior and posterior partition functions, multipled by the hyperparameter prior: (equation 5.8)\n",
      "$$\n",
      "p(\\alpha,\\beta \\mid y) = p(\\alpha,\\beta) \\prod_{j=1}^J \n",
      "    \\frac{\\Gamma(\\alpha+\\beta)}{\\Gamma(\\alpha)\\Gamma(\\beta)}\n",
      "    \\frac{\\Gamma(\\alpha+\\beta+n_j)}{\\Gamma(\\alpha+y_j) \\Gamma(\\beta+n_j-y_j)}\n",
      "$$\n",
      "Now let us plot the marginal posterior density.  As instructed in the book, here we reparametrize hyperparameters to be $\\log(\\frac \\alpha \\beta)$ and $\\log(\\alpha + \\beta)$.  As always, when computing a density function it is safer to do it in log-scale."
     ]
    },
    {
     "cell_type": "code",
     "collapsed": false,
     "input": [
      "from scipy.special import gammaln\n",
      "import numpy as np\n",
      "# calculate the log marginal hyperparamter posterior for each natural parameter value\n",
      "def log_hyperparam_posterior_helper(df, natural_1, natural_2):\n",
      "    '''\n",
      "    log of posterior of hyperparameters eq (5.8) in natural parameter scale \n",
      "    ( log(alpha/beta) and log(alpha + beta) )\n",
      "    '''\n",
      "    # calculate original parameters\n",
      "    beta = np.exp(natural_2) / (1.0 + np.exp(natural_1))\n",
      "    alpha = beta * np.exp(natural_1)\n",
      "    # now calculate the log density\n",
      "    log_prior = np.log(alpha) + np.log(beta) - 2.5 * np.log(alpha + beta)\n",
      "    log_posterior_1 = len(df) * (gammaln(alpha + beta) - gammaln(alpha) - gammaln(beta))\n",
      "    log_posterior_2 = sum(gammaln(alpha + df['y']) + gammaln(beta + df['N'] - df['y']) - \n",
      "            gammaln(alpha + beta + df['N']))\n",
      "    return log_prior + log_posterior_1 + log_posterior_2\n",
      "# vectorize the function\n",
      "local_log_hyperparam_posterior = \\\n",
      "    np.vectorize(log_hyperparam_posterior_helper, otypes=[np.float], excluded=[0])"
     ],
     "language": "python",
     "metadata": {},
     "outputs": [],
     "prompt_number": 5
    },
    {
     "cell_type": "markdown",
     "metadata": {},
     "source": [
      "Now we calculate the density on a grid of points."
     ]
    },
    {
     "cell_type": "code",
     "collapsed": false,
     "input": [
      "import pylab as pl\n",
      "import numpy as np\n",
      "grid_num = 64\n",
      "xmin = -2.3\n",
      "xmax = -1.3\n",
      "ymin = 1\n",
      "ymax = 5\n",
      "x = np.linspace(xmin, xmax, grid_num)\n",
      "y = np.linspace(ymin, ymax, grid_num)\n",
      "X, Y = np.meshgrid(x, y)\n",
      "log_Z = local_log_hyperparam_posterior(tumor_df, X,Y)\n",
      "max_log_Z = log_Z.max()\n",
      "Z = np.exp(log_Z - max_log_Z) * np.exp(max_log_Z)\n",
      "levels=np.exp(max_log_Z) * np.linspace(0.05, 0.95, 10)\n",
      "pl.contourf(X, Y, Z, 8, alpha=.75, cmap='jet', \n",
      "            levels=np.exp(max_log_Z) * np.concatenate(([0], np.linspace(0.05, 0.95, 10), [1])))\n",
      "C = pl.contour(X, Y, Z, 8, colors='black', linewidth=.5, levels=levels)"
     ],
     "language": "python",
     "metadata": {},
     "outputs": [
      {
       "metadata": {},
       "output_type": "display_data",
       "png": "[encoded data removed]",
       "text": [
        "<matplotlib.figure.Figure at 0x111acefd0>"
       ]
      }
     ],
     "prompt_number": 7
    },
    {
     "cell_type": "markdown",
     "metadata": {},
     "source": [
      "Above is the plot same to Figure 5.3; Figure 5.2 can also be reproduced just by changing the range.  Now let us sample hyperparameters from the posterior distribution."
     ]
    },
    {
     "cell_type": "code",
     "collapsed": false,
     "input": [
      "# normalize the grid\n",
      "probs = np.ravel(Z)/np.sum(Z)\n",
      "throws = np.random.choice(len(probs), 1000, p=probs)\n",
      "xs = x[throws % grid_num]\n",
      "ys = y[throws / grid_num]\n",
      "xgrid_size = (xmax-xmin)/grid_num\n",
      "ygrid_size = (ymax-ymin)/grid_num\n",
      "xs += numpy.random.random(len(xs)) * xgrid_size - 0.5 * xgrid_size\n",
      "ys += numpy.random.random(len(ys)) * ygrid_size - 0.5 * ygrid_size\n",
      "pl.scatter(xs, ys, s=.1)\n",
      "pl.xlim(xmin, xmax)\n",
      "pl.ylim(ymin, ymax)\n",
      "plt.show()"
     ],
     "language": "python",
     "metadata": {},
     "outputs": [
      {
       "metadata": {},
       "output_type": "display_data",
       "png": "[encoded data removed]",
       "text": [
        "<matplotlib.figure.Figure at 0x111a4ee90>"
       ]
      }
     ],
     "prompt_number": 8
    },
    {
     "cell_type": "code",
     "collapsed": false,
     "input": [],
     "language": "python",
     "metadata": {},
     "outputs": []
    }
   ],
   "metadata": {}
  }
 ]
}