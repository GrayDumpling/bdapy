{
 "metadata": {
  "name": "",
  "signature": "sha256:d56e4a15c1fc78e400566b1186b1058556e9aaea1d711e4aaeeaece781c6697c"
 },
 "nbformat": 3,
 "nbformat_minor": 0,
 "worksheets": [
  {
   "cells": [
    {
     "cell_type": "markdown",
     "metadata": {},
     "source": [
      "# Hierarchical Bayesian Inference of Normal Means #\n",
      "\n",
      "Suppose we have $J$ observations $\\bar{y}_{\\cdot j} \\mid \\theta_j \\sim \\text{N}(\\theta_j, \\sigma_j^2)$, conditionally independent of each other given its parameters.  The variance parameter $\\sigma_j^2$ is assumed to be known, and the mean parameter $\\theta_j$'s are independently sampled from prior $\\text{N}(\\mu, \\tau^2)$.  Finally, we assign uniform hyperprior distribution for $\\mu$ given $\\tau$:\n",
      "$$\n",
      "p(\\mu,\\tau) = p(\\mu \\mid \\tau) p(\\tau) \\propto p(\\tau).\n",
      "$$"
     ]
    },
    {
     "cell_type": "code",
     "collapsed": false,
     "input": [
      "# prepare inline pylab\n",
      "% pylab inline"
     ],
     "language": "python",
     "metadata": {},
     "outputs": [
      {
       "output_type": "stream",
       "stream": "stdout",
       "text": [
        "Populating the interactive namespace from numpy and matplotlib\n"
       ]
      }
     ],
     "prompt_number": 1
    },
    {
     "cell_type": "markdown",
     "metadata": {},
     "source": [
      "## BDA 5.5. Parallel Experiments in Eight Schools ##\n",
      "\n",
      "Please refer to the corresponding chapter of the book for description of the data.  I typed the data myself:"
     ]
    },
    {
     "cell_type": "code",
     "collapsed": false,
     "input": [
      "# load hand-typed data\n",
      "from pandas import *\n",
      "import numpy as np\n",
      "school_data = DataFrame(data={'means':[28,8,-3,7,-1,1,18,12],'serrs':[15,10,16,11,9,11,10,18]},\n",
      "                        index=['A','B','C','D','E','F','G','H'])"
     ],
     "language": "python",
     "metadata": {},
     "outputs": [],
     "prompt_number": 2
    },
    {
     "cell_type": "code",
     "collapsed": false,
     "input": [
      "# the data looks like this\n",
      "school_data"
     ],
     "language": "python",
     "metadata": {},
     "outputs": [
      {
       "html": [
        "<div style=\"max-height:1000px;max-width:1500px;overflow:auto;\">\n",
        "<table border=\"1\" class=\"dataframe\">\n",
        "  <thead>\n",
        "    <tr style=\"text-align: right;\">\n",
        "      <th></th>\n",
        "      <th>means</th>\n",
        "      <th>serrs</th>\n",
        "    </tr>\n",
        "  </thead>\n",
        "  <tbody>\n",
        "    <tr>\n",
        "      <th>A</th>\n",
        "      <td> 28</td>\n",
        "      <td> 15</td>\n",
        "    </tr>\n",
        "    <tr>\n",
        "      <th>B</th>\n",
        "      <td>  8</td>\n",
        "      <td> 10</td>\n",
        "    </tr>\n",
        "    <tr>\n",
        "      <th>C</th>\n",
        "      <td> -3</td>\n",
        "      <td> 16</td>\n",
        "    </tr>\n",
        "    <tr>\n",
        "      <th>D</th>\n",
        "      <td>  7</td>\n",
        "      <td> 11</td>\n",
        "    </tr>\n",
        "    <tr>\n",
        "      <th>E</th>\n",
        "      <td> -1</td>\n",
        "      <td>  9</td>\n",
        "    </tr>\n",
        "    <tr>\n",
        "      <th>F</th>\n",
        "      <td>  1</td>\n",
        "      <td> 11</td>\n",
        "    </tr>\n",
        "    <tr>\n",
        "      <th>G</th>\n",
        "      <td> 18</td>\n",
        "      <td> 10</td>\n",
        "    </tr>\n",
        "    <tr>\n",
        "      <th>H</th>\n",
        "      <td> 12</td>\n",
        "      <td> 18</td>\n",
        "    </tr>\n",
        "  </tbody>\n",
        "</table>\n",
        "</div>"
       ],
       "metadata": {},
       "output_type": "pyout",
       "prompt_number": 3,
       "text": [
        "   means  serrs\n",
        "A     28     15\n",
        "B      8     10\n",
        "C     -3     16\n",
        "D      7     11\n",
        "E     -1      9\n",
        "F      1     11\n",
        "G     18     10\n",
        "H     12     18"
       ]
      }
     ],
     "prompt_number": 3
    },
    {
     "cell_type": "markdown",
     "metadata": {},
     "source": [
      "Since mean parameters are conjugate to each other, only tricky part is the standard deviation parameter $\\tau$ for group means.  We marginalize out all other variables to make inference on $\\tau$."
     ]
    },
    {
     "cell_type": "code",
     "collapsed": false,
     "input": [
      "# define marginal log posterior function of tau\n",
      "def log_posterior_tau_helper(tau, means, serrs, log_prior=lambda tau: 0):\n",
      "    '''\n",
      "    computes log marginal hyperparameter density of tau\n",
      "    '''\n",
      "    ret = log_prior(tau)\n",
      "    marginal_variances = serrs ** 2 + tau ** 2\n",
      "    total_variance = 1.0/np.sum(1.0/marginal_variances)\n",
      "    # precision weighted average\n",
      "    mu_hat = np.sum((1.0/marginal_variances) * means) / \\\n",
      "            np.sum(1.0/marginal_variances)\n",
      "    ret += 0.5 * log(total_variance)\n",
      "    ret -= 0.5 * np.sum(np.log(marginal_variances))\n",
      "    ret -= 0.5 * np.sum(((means - mu_hat) ** 2)/marginal_variances)\n",
      "    return ret\n",
      "# vectorize the function for convenience\n",
      "log_posterior_tau = \\\n",
      "    np.vectorize(log_posterior_tau_helper, otypes=[np.float], excluded=[1,2,3])"
     ],
     "language": "python",
     "metadata": {},
     "outputs": [],
     "prompt_number": 4
    },
    {
     "cell_type": "markdown",
     "metadata": {},
     "source": [
      "Now let us reproduce Figure 5.5, which draws marginal posterior density $p(\\tau \\mid y)$."
     ]
    },
    {
     "cell_type": "code",
     "collapsed": false,
     "input": [
      "import pylab as pl\n",
      "# grid points to evaluate evaluate density function\n",
      "tau_min = 0; tau_max = 30; tau_grid_num = 1000\n",
      "tau_knots = np.linspace(tau_min, tau_max, tau_grid_num)\n",
      "lop_posterior_tau_densities = \\\n",
      "    log_posterior_tau(tau_knots, school_data.means, \n",
      "                      school_data.serrs, log_prior=lambda tau: 0)\n",
      "# when calculating densities, it is numerically more stable to \n",
      "# first compute in log space, subtract the maximum, and then exponentiate\n",
      "posterior_tau_densities = \\\n",
      "        np.exp(lop_posterior_tau_densities - np.max(lop_posterior_tau_densities))\n",
      "#np.exp(log_posterior_tau_densities - log_posterior_tau_densities.max())\n",
      "pl.plot(tau_knots, posterior_tau_densities, color='k', linestyle='-', linewidth=1)\n",
      "pl.axes().set_xlabel(r'$\\tau$')\n",
      "# the y-axis of unnormalized posterior means nothing, so rather hide the scale\n",
      "pl.axes().get_yaxis().set_visible(False)"
     ],
     "language": "python",
     "metadata": {},
     "outputs": [
      {
       "metadata": {},
       "output_type": "display_data",
       "png": "[encoded data removed]",
       "text": [
        "<matplotlib.figure.Figure at 0x113f4ae10>"
       ]
      }
     ],
     "prompt_number": 5
    },
    {
     "cell_type": "markdown",
     "metadata": {},
     "source": [
      "This plot indicates that values of $\\tau$ near zero are most plausible, but large values such as 10 or 15 are still quite likely.\n",
      "\n",
      "Now, we study the change of $\\mathbb{E}[\\theta_j \\mid \\tau]$'s and $\\text{sd}[\\theta_j \\mid \\tau]$'s as a function of $\\tau$.  This can be done by marginalizing out $\\mu$ from the conditional distribution $\\theta_j \\mid \\mu,\\tau,y$."
     ]
    },
    {
     "cell_type": "code",
     "collapsed": false,
     "input": [
      "def mean_posterior_given_tau(tau, means, serrs):\n",
      "    assert(len(means) == len(serrs))\n",
      "    marginal_variances = serrs ** 2 + tau ** 2\n",
      "    total_variance = 1.0/np.sum(1.0/marginal_variances)\n",
      "    # precision weighted average\n",
      "    mu_hat = np.sum((1.0/marginal_variances) * means) / \\\n",
      "            np.sum(1.0/marginal_variances)\n",
      "    if tau == 0:\n",
      "        return np.repeat(mu_hat, len(means))\n",
      "    return ((1.0/(serrs ** 2)) * means + 1.0/(tau ** 2) * mu_hat) / (1.0/(serrs ** 2) + 1.0/(tau ** 2))\n",
      "\n",
      "def sd_posterior_given_tau(tau, serrs):\n",
      "    marginal_variances = serrs ** 2 + tau ** 2\n",
      "    total_variance = 1.0/np.sum(1.0/marginal_variances)\n",
      "    individual_variances = (((serrs ** 2)/(serrs ** 2 + tau ** 2)) ** 2) * total_variance\n",
      "    if tau == 0:\n",
      "        return np.sqrt(individual_variances)\n",
      "    return np.sqrt(individual_variances + 1.0 / (1.0/(serrs ** 2) + 1.0/(tau ** 2)))\n",
      "\n",
      "mean_posterior_given_taus = \\\n",
      "    np.vectorize(mean_posterior_given_tau, otypes=[np.ndarray], excluded=[1,2])\n",
      "tau_conditional_means = \\\n",
      "        pandas.DataFrame.from_records(mean_posterior_given_taus(tau_knots, school_data.means, school_data.serrs),\n",
      "                                      index = tau_knots, columns=school_data.index)\n",
      "    \n",
      "sd_posterior_given_taus = \\\n",
      "    np.vectorize(sd_posterior_given_tau, otypes=[np.ndarray], excluded=[1])\n",
      "tau_conditional_sds = \\\n",
      "        pandas.DataFrame.from_records(sd_posterior_given_taus(tau_knots, school_data.serrs),\n",
      "                                      index = tau_knots, columns=school_data.index)"
     ],
     "language": "python",
     "metadata": {},
     "outputs": [],
     "prompt_number": 6
    },
    {
     "cell_type": "code",
     "collapsed": false,
     "input": [
      "# I was not able to put inline labels in Python. \n",
      "# this page contains an example code for it: http://stackoverflow.com/questions/16992038/inline-labels-in-matplotlib\n",
      "tau_conditional_means.plot(style=['-','--','-.',':','-','--','-.',':'])\n",
      "pl.legend(bbox_to_anchor=(1.05, 1), loc=2)\n",
      "pl.ylim(-5,30)\n",
      "pl.axes().set_xlabel(r'$\\tau$')\n",
      "pl.show()"
     ],
     "language": "python",
     "metadata": {},
     "outputs": [
      {
       "metadata": {},
       "output_type": "display_data",
       "png": "[encoded data removed]",
       "text": [
        "<matplotlib.figure.Figure at 0x1140b77d0>"
       ]
      }
     ],
     "prompt_number": 7
    },
    {
     "cell_type": "markdown",
     "metadata": {},
     "source": [
      "When $\\tau = 0$, all group means are treated to be the same, while as $\\tau \\rightarrow \\infty$ they converge to individual MLEs."
     ]
    },
    {
     "cell_type": "code",
     "collapsed": false,
     "input": [
      "tau_conditional_sds.plot(style=['-','--','-.',':','-','--','-.',':'])\n",
      "pl.legend(bbox_to_anchor=(1.05, 1), loc=2)\n",
      "pl.ylim(0,20)\n",
      "pl.axes().set_xlabel(r'$\\tau$')\n",
      "pl.show()"
     ],
     "language": "python",
     "metadata": {},
     "outputs": [
      {
       "metadata": {},
       "output_type": "display_data",
       "png": "[encoded data removed]",
       "text": [
        "<matplotlib.figure.Figure at 0x11313e6d0>"
       ]
      }
     ],
     "prompt_number": 8
    },
    {
     "cell_type": "markdown",
     "metadata": {},
     "source": [
      "Naturally, larger $\\tau$ means higher uncertainty in estimates.  \n",
      "\n",
      "Now, let us sample parameters from the joint posterior distribution."
     ]
    },
    {
     "cell_type": "code",
     "collapsed": false,
     "input": [
      "# seed the RNG\n",
      "np.random.seed(13531)\n",
      "sample_num = 200\n",
      "# first sample tau's\n",
      "tau_probs = posterior_tau_densities / posterior_tau_densities.sum()\n",
      "samples_tau = np.random.choice(tau_knots, sample_num, p=tau_probs)\n",
      "# now sample mu conditioned on tau\n",
      "def sample_means_from_tau(tau, means, serrs):\n",
      "    marginal_variances = serrs ** 2 + tau ** 2\n",
      "    total_variance = 1.0/np.sum(1.0/marginal_variances)\n",
      "    # precision weighted average\n",
      "    mu_hat = np.sum((1.0/marginal_variances) * means) / \\\n",
      "            np.sum(1.0/marginal_variances)\n",
      "    sample_mu = np.random.normal(loc=mu_hat, scale=np.sqrt(total_variance))\n",
      "    \n",
      "    conditional_means = \\\n",
      "        ((1.0/(serrs ** 2)) * means + 1.0/(tau ** 2) * sample_mu) /\\\n",
      "        (1.0/(serrs ** 2) + 1.0/(tau ** 2))\n",
      "    conditional_scales = np.sqrt(1.0 / (1.0/(serrs ** 2) + 1.0/(tau ** 2)))\n",
      "    return np.random.normal(loc=conditional_means,\n",
      "                            scale=conditional_scales)\n",
      "        \n",
      "sample_means_from_taus = \\\n",
      "        np.vectorize(sample_means_from_tau, otypes=[np.ndarray], excluded=[1,2])\n",
      "\n",
      "samples_df = DataFrame.from_records(sample_means_from_taus(samples_tau, school_data.means, school_data.serrs),\n",
      "                                    columns=school_data.index)"
     ],
     "language": "python",
     "metadata": {},
     "outputs": [],
     "prompt_number": 66
    },
    {
     "cell_type": "markdown",
     "metadata": {},
     "source": [
      "Now that we have posterior samples, we can reproduce Table 5.3. which shows quantiles of posterior samples:"
     ]
    },
    {
     "cell_type": "code",
     "collapsed": false,
     "input": [
      "samples_df.quantile([0.025,0.25,0.5,0.75,0.975]).transpose().apply(np.round)"
     ],
     "language": "python",
     "metadata": {},
     "outputs": [
      {
       "html": [
        "<div style=\"max-height:1000px;max-width:1500px;overflow:auto;\">\n",
        "<table border=\"1\" class=\"dataframe\">\n",
        "  <thead>\n",
        "    <tr style=\"text-align: right;\">\n",
        "      <th></th>\n",
        "      <th>0.025</th>\n",
        "      <th>0.25</th>\n",
        "      <th>0.5</th>\n",
        "      <th>0.75</th>\n",
        "      <th>0.975</th>\n",
        "    </tr>\n",
        "  </thead>\n",
        "  <tbody>\n",
        "    <tr>\n",
        "      <th>A</th>\n",
        "      <td> -4</td>\n",
        "      <td> 6</td>\n",
        "      <td> 10</td>\n",
        "      <td> 15</td>\n",
        "      <td> 27</td>\n",
        "    </tr>\n",
        "    <tr>\n",
        "      <th>B</th>\n",
        "      <td> -4</td>\n",
        "      <td> 3</td>\n",
        "      <td>  7</td>\n",
        "      <td> 12</td>\n",
        "      <td> 20</td>\n",
        "    </tr>\n",
        "    <tr>\n",
        "      <th>C</th>\n",
        "      <td>-12</td>\n",
        "      <td> 2</td>\n",
        "      <td>  7</td>\n",
        "      <td> 11</td>\n",
        "      <td> 19</td>\n",
        "    </tr>\n",
        "    <tr>\n",
        "      <th>D</th>\n",
        "      <td> -6</td>\n",
        "      <td> 5</td>\n",
        "      <td>  8</td>\n",
        "      <td> 12</td>\n",
        "      <td> 19</td>\n",
        "    </tr>\n",
        "    <tr>\n",
        "      <th>E</th>\n",
        "      <td>-10</td>\n",
        "      <td> 2</td>\n",
        "      <td>  6</td>\n",
        "      <td>  9</td>\n",
        "      <td> 17</td>\n",
        "    </tr>\n",
        "    <tr>\n",
        "      <th>F</th>\n",
        "      <td>-11</td>\n",
        "      <td> 3</td>\n",
        "      <td>  7</td>\n",
        "      <td> 10</td>\n",
        "      <td> 19</td>\n",
        "    </tr>\n",
        "    <tr>\n",
        "      <th>G</th>\n",
        "      <td> -0</td>\n",
        "      <td> 7</td>\n",
        "      <td> 10</td>\n",
        "      <td> 14</td>\n",
        "      <td> 29</td>\n",
        "    </tr>\n",
        "    <tr>\n",
        "      <th>H</th>\n",
        "      <td> -9</td>\n",
        "      <td> 4</td>\n",
        "      <td>  8</td>\n",
        "      <td> 13</td>\n",
        "      <td> 26</td>\n",
        "    </tr>\n",
        "  </tbody>\n",
        "</table>\n",
        "</div>"
       ],
       "metadata": {},
       "output_type": "pyout",
       "prompt_number": 79,
       "text": [
        "   0.025  0.250  0.500  0.750  0.975\n",
        "A     -4      6     10     15     27\n",
        "B     -4      3      7     12     20\n",
        "C    -12      2      7     11     19\n",
        "D     -6      5      8     12     19\n",
        "E    -10      2      6      9     17\n",
        "F    -11      3      7     10     19\n",
        "G     -0      7     10     14     29\n",
        "H     -9      4      8     13     26"
       ]
      }
     ],
     "prompt_number": 79
    },
    {
     "cell_type": "markdown",
     "metadata": {},
     "source": [
      "Lower and upper quantiles deviate a bit from the book, but this is probably due to small sample size (200).\n",
      "\n",
      "Figure 5.8 (a) reproduced below shows posterior samples for the effect in school A."
     ]
    },
    {
     "cell_type": "code",
     "collapsed": false,
     "input": [
      "samples_df['A'].hist(bins=20)\n",
      "pl.axes().set_xlabel(r'Effect in School A')\n",
      "pl.xlim(-20,60)"
     ],
     "language": "python",
     "metadata": {},
     "outputs": [
      {
       "metadata": {},
       "output_type": "pyout",
       "prompt_number": 85,
       "text": [
        "(-20, 60)"
       ]
      },
      {
       "metadata": {},
       "output_type": "display_data",
       "png": "[encoded data removed]",
       "text": [
        "<matplotlib.figure.Figure at 0x1151d06d0>"
       ]
      }
     ],
     "prompt_number": 85
    },
    {
     "cell_type": "markdown",
     "metadata": {},
     "source": [
      "Figure 5.8 (b) reproduced below shows posterior samples of the largest effect."
     ]
    },
    {
     "cell_type": "code",
     "collapsed": false,
     "input": [
      "pl.hist(samples_df.max(axis=1), bins=20)\n",
      "pl.axes().set_xlabel(r'Largest Effect')\n",
      "pl.xlim(-20,60)"
     ],
     "language": "python",
     "metadata": {},
     "outputs": [
      {
       "metadata": {},
       "output_type": "pyout",
       "prompt_number": 86,
       "text": [
        "(-20, 60)"
       ]
      },
      {
       "metadata": {},
       "output_type": "display_data",
       "png": "[encoded data removed]",
       "text": [
        "<matplotlib.figure.Figure at 0x1152d39d0>"
       ]
      }
     ],
     "prompt_number": 86
    },
    {
     "cell_type": "markdown",
     "metadata": {},
     "source": [
      "$\\text{Pr}(\\max\\{ \\theta_j \\} > 28.4 \\mid y)$ can be calculated as:"
     ]
    },
    {
     "cell_type": "code",
     "collapsed": false,
     "input": [
      "np.mean(samples_df.max(axis=1) > 28.4)"
     ],
     "language": "python",
     "metadata": {},
     "outputs": [
      {
       "metadata": {},
       "output_type": "pyout",
       "prompt_number": 82,
       "text": [
        "0.055"
       ]
      }
     ],
     "prompt_number": 82
    },
    {
     "cell_type": "markdown",
     "metadata": {},
     "source": [
      "Since the probability is small, the accuracy with only 200 samples is quite poor.\n",
      "\n",
      "We can also compute $\\text{Pr}(\\theta_1 > \\theta_3 \\mid y)$:"
     ]
    },
    {
     "cell_type": "code",
     "collapsed": false,
     "input": [
      "np.mean(samples_df['A'] > samples_df['C'])"
     ],
     "language": "python",
     "metadata": {},
     "outputs": [
      {
       "metadata": {},
       "output_type": "pyout",
       "prompt_number": 87,
       "text": [
        "0.61499999999999999"
       ]
      }
     ],
     "prompt_number": 87
    },
    {
     "cell_type": "code",
     "collapsed": false,
     "input": [],
     "language": "python",
     "metadata": {},
     "outputs": []
    }
   ],
   "metadata": {}
  }
 ]
}