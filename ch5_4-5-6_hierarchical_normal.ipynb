{
 "metadata": {
  "name": "",
  "signature": "sha256:98552ef835ecd892441d9f665fdeda68dc7bcdb6401ae62e7eca42a723914935"
 },
 "nbformat": 3,
 "nbformat_minor": 0,
 "worksheets": [
  {
   "cells": [
    {
     "cell_type": "markdown",
     "metadata": {},
     "source": [
      "# Hierarchical Bayesian Inference of Normal Means #\n",
      "\n",
      "This notebook is based on Chapter 5.4, 5.5 and 5.6 of 'Bayesian Data Analysis' (Gelman et. al, 3rd Edition).\n",
      "\n",
      "Suppose we have $J$ observations $\\bar{y}_{\\cdot j} \\mid \\theta_j \\sim \\text{N}(\\theta_j, \\sigma_j^2)$, conditionally independent of each other given its parameters.  The variance parameter $\\sigma_j^2$ is assumed to be known, and the mean parameter $\\theta_j$'s are independently sampled from prior $\\text{N}(\\mu, \\tau^2)$.  Finally, we assign uniform hyperprior distribution for $\\mu$ given $\\tau$:\n",
      "$$\n",
      "p(\\mu,\\tau) = p(\\mu \\mid \\tau) p(\\tau) \\propto p(\\tau).\n",
      "$$"
     ]
    },
    {
     "cell_type": "code",
     "collapsed": false,
     "input": [
      "# prepare inline pylab\n",
      "% pylab inline"
     ],
     "language": "python",
     "metadata": {},
     "outputs": [
      {
       "output_type": "stream",
       "stream": "stdout",
       "text": [
        "Populating the interactive namespace from numpy and matplotlib\n"
       ]
      }
     ],
     "prompt_number": 1
    },
    {
     "cell_type": "markdown",
     "metadata": {},
     "source": [
      "## Parallel Experiments in Eight Schools (BDA 5.5) ##\n",
      "\n",
      "Please refer to the corresponding chapter of the book for description of the data.  I typed the data myself:"
     ]
    },
    {
     "cell_type": "code",
     "collapsed": false,
     "input": [
      "# load hand-typed data\n",
      "from pandas import *\n",
      "import numpy as np\n",
      "school_data = DataFrame(data={'means':[28,8,-3,7,-1,1,18,12],'serrs':[15,10,16,11,9,11,10,18]},\n",
      "                        index=['A','B','C','D','E','F','G','H'])"
     ],
     "language": "python",
     "metadata": {},
     "outputs": [],
     "prompt_number": 2
    },
    {
     "cell_type": "code",
     "collapsed": false,
     "input": [
      "# the data looks like this\n",
      "school_data"
     ],
     "language": "python",
     "metadata": {},
     "outputs": [
      {
       "html": [
        "<div style=\"max-height:1000px;max-width:1500px;overflow:auto;\">\n",
        "<table border=\"1\" class=\"dataframe\">\n",
        "  <thead>\n",
        "    <tr style=\"text-align: right;\">\n",
        "      <th></th>\n",
        "      <th>means</th>\n",
        "      <th>serrs</th>\n",
        "    </tr>\n",
        "  </thead>\n",
        "  <tbody>\n",
        "    <tr>\n",
        "      <th>A</th>\n",
        "      <td> 28</td>\n",
        "      <td> 15</td>\n",
        "    </tr>\n",
        "    <tr>\n",
        "      <th>B</th>\n",
        "      <td>  8</td>\n",
        "      <td> 10</td>\n",
        "    </tr>\n",
        "    <tr>\n",
        "      <th>C</th>\n",
        "      <td> -3</td>\n",
        "      <td> 16</td>\n",
        "    </tr>\n",
        "    <tr>\n",
        "      <th>D</th>\n",
        "      <td>  7</td>\n",
        "      <td> 11</td>\n",
        "    </tr>\n",
        "    <tr>\n",
        "      <th>E</th>\n",
        "      <td> -1</td>\n",
        "      <td>  9</td>\n",
        "    </tr>\n",
        "    <tr>\n",
        "      <th>F</th>\n",
        "      <td>  1</td>\n",
        "      <td> 11</td>\n",
        "    </tr>\n",
        "    <tr>\n",
        "      <th>G</th>\n",
        "      <td> 18</td>\n",
        "      <td> 10</td>\n",
        "    </tr>\n",
        "    <tr>\n",
        "      <th>H</th>\n",
        "      <td> 12</td>\n",
        "      <td> 18</td>\n",
        "    </tr>\n",
        "  </tbody>\n",
        "</table>\n",
        "</div>"
       ],
       "metadata": {},
       "output_type": "pyout",
       "prompt_number": 3,
       "text": [
        "   means  serrs\n",
        "A     28     15\n",
        "B      8     10\n",
        "C     -3     16\n",
        "D      7     11\n",
        "E     -1      9\n",
        "F      1     11\n",
        "G     18     10\n",
        "H     12     18"
       ]
      }
     ],
     "prompt_number": 3
    },
    {
     "cell_type": "markdown",
     "metadata": {},
     "source": [
      "Since mean parameters are conjugate to each other, only tricky part is the standard deviation parameter $\\tau$ for group means.  We marginalize out all other variables to make inference on $\\tau$."
     ]
    },
    {
     "cell_type": "code",
     "collapsed": false,
     "input": [
      "# define marginal log posterior function of tau\n",
      "def log_posterior_tau_helper(tau, means, serrs, log_prior=lambda tau: 0):\n",
      "    '''\n",
      "    computes log marginal hyperparameter density of tau\n",
      "    '''\n",
      "    ret = log_prior(tau)\n",
      "    marginal_variances = serrs ** 2 + tau ** 2\n",
      "    total_variance = 1.0/np.sum(1.0/marginal_variances)\n",
      "    # precision weighted average\n",
      "    mu_hat = np.sum((1.0/marginal_variances) * means) / \\\n",
      "            np.sum(1.0/marginal_variances)\n",
      "    ret += 0.5 * log(total_variance)\n",
      "    ret -= 0.5 * np.sum(np.log(marginal_variances))\n",
      "    ret -= 0.5 * np.sum(((means - mu_hat) ** 2)/marginal_variances)\n",
      "    return ret\n",
      "# vectorize the function for convenience\n",
      "log_posterior_tau = \\\n",
      "    np.vectorize(log_posterior_tau_helper, otypes=[np.float], excluded=[1,2,3])"
     ],
     "language": "python",
     "metadata": {},
     "outputs": [],
     "prompt_number": 4
    },
    {
     "cell_type": "markdown",
     "metadata": {},
     "source": [
      "Now let us reproduce Figure 5.5, which draws marginal posterior density $p(\\tau \\mid y)$."
     ]
    },
    {
     "cell_type": "code",
     "collapsed": false,
     "input": [
      "import pylab as pl\n",
      "# grid points to evaluate evaluate density function\n",
      "tau_min = 0; tau_max = 30; tau_grid_num = 1000\n",
      "tau_knots = np.linspace(tau_min, tau_max, tau_grid_num)\n",
      "lop_posterior_tau_densities = \\\n",
      "    log_posterior_tau(tau_knots, school_data.means, \n",
      "                      school_data.serrs, log_prior=lambda tau: 0)\n",
      "# when calculating densities, it is numerically more stable to \n",
      "# first compute in log space, subtract the maximum, and then exponentiate\n",
      "posterior_tau_densities = \\\n",
      "        np.exp(lop_posterior_tau_densities - np.max(lop_posterior_tau_densities))\n",
      "#np.exp(log_posterior_tau_densities - log_posterior_tau_densities.max())\n",
      "pl.plot(tau_knots, posterior_tau_densities, color='k', linestyle='-', linewidth=1)\n",
      "pl.axes().set_xlabel(r'$\\tau$')\n",
      "# the y-axis of unnormalized posterior means nothing, so rather hide the scale\n",
      "pl.axes().get_yaxis().set_visible(False)"
     ],
     "language": "python",
     "metadata": {},
     "outputs": [
      {
       "metadata": {},
       "output_type": "display_data",
       "png": "[encoded data removed]",
       "text": [
        "<matplotlib.figure.Figure at 0x1134e8e90>"
       ]
      }
     ],
     "prompt_number": 5
    },
    {
     "cell_type": "markdown",
     "metadata": {},
     "source": [
      "This plot indicates that values of $\\tau$ near zero are most plausible, but large values such as 10 or 15 are still quite likely.\n",
      "\n",
      "Now, we study the change of $\\mathbb{E}[\\theta_j \\mid \\tau]$'s and $\\text{sd}[\\theta_j \\mid \\tau]$'s as a function of $\\tau$.  This can be done by marginalizing out $\\mu$ from the conditional distribution $\\theta_j \\mid \\mu,\\tau,y$."
     ]
    },
    {
     "cell_type": "code",
     "collapsed": false,
     "input": [
      "def mean_posterior_given_tau(tau, means, serrs):\n",
      "    assert(len(means) == len(serrs))\n",
      "    marginal_variances = serrs ** 2 + tau ** 2\n",
      "    total_variance = 1.0/np.sum(1.0/marginal_variances)\n",
      "    # precision weighted average\n",
      "    mu_hat = np.sum((1.0/marginal_variances) * means) / \\\n",
      "            np.sum(1.0/marginal_variances)\n",
      "    if tau == 0:\n",
      "        return np.repeat(mu_hat, len(means))\n",
      "    return ((1.0/(serrs ** 2)) * means + 1.0/(tau ** 2) * mu_hat) / (1.0/(serrs ** 2) + 1.0/(tau ** 2))\n",
      "\n",
      "def sd_posterior_given_tau(tau, serrs):\n",
      "    marginal_variances = serrs ** 2 + tau ** 2\n",
      "    total_variance = 1.0/np.sum(1.0/marginal_variances)\n",
      "    individual_variances = (((serrs ** 2)/(serrs ** 2 + tau ** 2)) ** 2) * total_variance\n",
      "    if tau == 0:\n",
      "        return np.sqrt(individual_variances)\n",
      "    return np.sqrt(individual_variances + 1.0 / (1.0/(serrs ** 2) + 1.0/(tau ** 2)))\n",
      "\n",
      "mean_posterior_given_taus = \\\n",
      "    np.vectorize(mean_posterior_given_tau, otypes=[np.ndarray], excluded=[1,2])\n",
      "tau_conditional_means = \\\n",
      "        pandas.DataFrame.from_records(mean_posterior_given_taus(tau_knots, school_data.means, school_data.serrs),\n",
      "                                      index = tau_knots, columns=school_data.index)\n",
      "    \n",
      "sd_posterior_given_taus = \\\n",
      "    np.vectorize(sd_posterior_given_tau, otypes=[np.ndarray], excluded=[1])\n",
      "tau_conditional_sds = \\\n",
      "        pandas.DataFrame.from_records(sd_posterior_given_taus(tau_knots, school_data.serrs),\n",
      "                                      index = tau_knots, columns=school_data.index)"
     ],
     "language": "python",
     "metadata": {},
     "outputs": [],
     "prompt_number": 6
    },
    {
     "cell_type": "code",
     "collapsed": false,
     "input": [
      "# I was not able to put inline labels in Python. \n",
      "# this page contains an example code for it: http://stackoverflow.com/questions/16992038/inline-labels-in-matplotlib\n",
      "tau_conditional_means.plot(style=['-','--','-.',':','-','--','-.',':'])\n",
      "pl.legend(bbox_to_anchor=(1.05, 1), loc=2)\n",
      "pl.ylim(-5,30)\n",
      "pl.axes().set_xlabel(r'$\\tau$')\n",
      "pl.show()"
     ],
     "language": "python",
     "metadata": {},
     "outputs": [
      {
       "metadata": {},
       "output_type": "display_data",
       "png": "[encoded data removed]",
       "text": [
        "<matplotlib.figure.Figure at 0x113654b90>"
       ]
      }
     ],
     "prompt_number": 7
    },
    {
     "cell_type": "markdown",
     "metadata": {},
     "source": [
      "When $\\tau = 0$, all group means are treated to be the same, while as $\\tau \\rightarrow \\infty$ they converge to individual MLEs."
     ]
    },
    {
     "cell_type": "code",
     "collapsed": false,
     "input": [
      "tau_conditional_sds.plot(style=['-','--','-.',':','-','--','-.',':'])\n",
      "pl.legend(bbox_to_anchor=(1.05, 1), loc=2)\n",
      "pl.ylim(0,20)\n",
      "pl.axes().set_xlabel(r'$\\tau$')\n",
      "pl.show()"
     ],
     "language": "python",
     "metadata": {},
     "outputs": [
      {
       "metadata": {},
       "output_type": "display_data",
       "png": "[encoded data removed]",
       "text": [
        "<matplotlib.figure.Figure at 0x1136543d0>"
       ]
      }
     ],
     "prompt_number": 8
    },
    {
     "cell_type": "markdown",
     "metadata": {},
     "source": [
      "Naturally, larger $\\tau$ means higher uncertainty in estimates.  \n",
      "\n",
      "Now, let us sample parameters from the joint posterior distribution."
     ]
    },
    {
     "cell_type": "code",
     "collapsed": false,
     "input": [
      "# seed the RNG\n",
      "np.random.seed(13531)\n",
      "sample_num = 200\n",
      "# first sample tau's\n",
      "tau_probs = posterior_tau_densities / posterior_tau_densities.sum()\n",
      "samples_tau = np.random.choice(tau_knots, sample_num, p=tau_probs)\n",
      "# now sample mu conditioned on tau\n",
      "def sample_means_from_tau(tau, means, serrs, include_mu=False):\n",
      "    marginal_variances = serrs ** 2 + tau ** 2\n",
      "    total_variance = 1.0/np.sum(1.0/marginal_variances)\n",
      "    # precision weighted average\n",
      "    mu_hat = np.sum((1.0/marginal_variances) * means) / \\\n",
      "            np.sum(1.0/marginal_variances)\n",
      "    sample_mu = np.random.normal(loc=mu_hat, scale=np.sqrt(total_variance))\n",
      "    if tau == 0:\n",
      "        if include_mu:\n",
      "            return np.repeat(sample_mu, len(means) + 1)\n",
      "        else:\n",
      "            return np.repeat(sample_mu, len(means))\n",
      "    conditional_means = \\\n",
      "        ((1.0/(serrs ** 2)) * means + 1.0/(tau ** 2) * sample_mu) /\\\n",
      "        (1.0/(serrs ** 2) + 1.0/(tau ** 2))\n",
      "    conditional_scales = np.sqrt(1.0 / (1.0/(serrs ** 2) + 1.0/(tau ** 2)))\n",
      "    if include_mu == True:\n",
      "        return np.concatenate(([sample_mu],\n",
      "                               np.random.normal(loc=conditional_means,\n",
      "                                                scale=conditional_scales)))\n",
      "    else:\n",
      "        return np.random.normal(loc=conditional_means,\n",
      "                                scale=conditional_scales)\n",
      "        \n",
      "sample_means_from_taus = \\\n",
      "        np.vectorize(sample_means_from_tau, otypes=[np.ndarray], excluded=[1,2,3])\n",
      "\n",
      "samples_df = DataFrame.from_records(sample_means_from_taus(samples_tau, school_data.means, school_data.serrs),\n",
      "                                    columns=school_data.index)"
     ],
     "language": "python",
     "metadata": {},
     "outputs": [],
     "prompt_number": 9
    },
    {
     "cell_type": "markdown",
     "metadata": {},
     "source": [
      "Now that we have posterior samples, we can reproduce Table 5.3. which shows quantiles of posterior samples:"
     ]
    },
    {
     "cell_type": "code",
     "collapsed": false,
     "input": [
      "samples_df.quantile([0.025,0.25,0.5,0.75,0.975]).transpose().apply(np.round)"
     ],
     "language": "python",
     "metadata": {},
     "outputs": [
      {
       "html": [
        "<div style=\"max-height:1000px;max-width:1500px;overflow:auto;\">\n",
        "<table border=\"1\" class=\"dataframe\">\n",
        "  <thead>\n",
        "    <tr style=\"text-align: right;\">\n",
        "      <th></th>\n",
        "      <th>0.025</th>\n",
        "      <th>0.25</th>\n",
        "      <th>0.5</th>\n",
        "      <th>0.75</th>\n",
        "      <th>0.975</th>\n",
        "    </tr>\n",
        "  </thead>\n",
        "  <tbody>\n",
        "    <tr>\n",
        "      <th>A</th>\n",
        "      <td> -4</td>\n",
        "      <td> 6</td>\n",
        "      <td> 10</td>\n",
        "      <td> 15</td>\n",
        "      <td> 27</td>\n",
        "    </tr>\n",
        "    <tr>\n",
        "      <th>B</th>\n",
        "      <td> -4</td>\n",
        "      <td> 3</td>\n",
        "      <td>  7</td>\n",
        "      <td> 12</td>\n",
        "      <td> 20</td>\n",
        "    </tr>\n",
        "    <tr>\n",
        "      <th>C</th>\n",
        "      <td>-12</td>\n",
        "      <td> 2</td>\n",
        "      <td>  7</td>\n",
        "      <td> 11</td>\n",
        "      <td> 19</td>\n",
        "    </tr>\n",
        "    <tr>\n",
        "      <th>D</th>\n",
        "      <td> -6</td>\n",
        "      <td> 5</td>\n",
        "      <td>  8</td>\n",
        "      <td> 12</td>\n",
        "      <td> 19</td>\n",
        "    </tr>\n",
        "    <tr>\n",
        "      <th>E</th>\n",
        "      <td>-10</td>\n",
        "      <td> 2</td>\n",
        "      <td>  6</td>\n",
        "      <td>  9</td>\n",
        "      <td> 17</td>\n",
        "    </tr>\n",
        "    <tr>\n",
        "      <th>F</th>\n",
        "      <td>-11</td>\n",
        "      <td> 3</td>\n",
        "      <td>  7</td>\n",
        "      <td> 10</td>\n",
        "      <td> 19</td>\n",
        "    </tr>\n",
        "    <tr>\n",
        "      <th>G</th>\n",
        "      <td> -0</td>\n",
        "      <td> 7</td>\n",
        "      <td> 10</td>\n",
        "      <td> 14</td>\n",
        "      <td> 29</td>\n",
        "    </tr>\n",
        "    <tr>\n",
        "      <th>H</th>\n",
        "      <td> -9</td>\n",
        "      <td> 4</td>\n",
        "      <td>  8</td>\n",
        "      <td> 13</td>\n",
        "      <td> 26</td>\n",
        "    </tr>\n",
        "  </tbody>\n",
        "</table>\n",
        "</div>"
       ],
       "metadata": {},
       "output_type": "pyout",
       "prompt_number": 10,
       "text": [
        "   0.025  0.250  0.500  0.750  0.975\n",
        "A     -4      6     10     15     27\n",
        "B     -4      3      7     12     20\n",
        "C    -12      2      7     11     19\n",
        "D     -6      5      8     12     19\n",
        "E    -10      2      6      9     17\n",
        "F    -11      3      7     10     19\n",
        "G     -0      7     10     14     29\n",
        "H     -9      4      8     13     26"
       ]
      }
     ],
     "prompt_number": 10
    },
    {
     "cell_type": "markdown",
     "metadata": {},
     "source": [
      "Lower and upper quantiles deviate a bit from the book, but this is probably due to small sample size (200).\n",
      "\n",
      "Figure 5.8 (a) reproduced below shows posterior samples for the effect in school A."
     ]
    },
    {
     "cell_type": "code",
     "collapsed": false,
     "input": [
      "samples_df['A'].hist(bins=20)\n",
      "pl.axes().set_xlabel(r'Effect in School A')\n",
      "pl.xlim(-20,60)"
     ],
     "language": "python",
     "metadata": {},
     "outputs": [
      {
       "metadata": {},
       "output_type": "pyout",
       "prompt_number": 11,
       "text": [
        "(-20, 60)"
       ]
      },
      {
       "metadata": {},
       "output_type": "display_data",
       "png": "[encoded data removed]",
       "text": [
        "<matplotlib.figure.Figure at 0x1136d1a90>"
       ]
      }
     ],
     "prompt_number": 11
    },
    {
     "cell_type": "markdown",
     "metadata": {},
     "source": [
      "Figure 5.8 (b) reproduced below shows posterior samples of the largest effect."
     ]
    },
    {
     "cell_type": "code",
     "collapsed": false,
     "input": [
      "pl.hist(samples_df.max(axis=1), bins=20)\n",
      "pl.axes().set_xlabel(r'Largest Effect')\n",
      "pl.xlim(-20,60)"
     ],
     "language": "python",
     "metadata": {},
     "outputs": [
      {
       "metadata": {},
       "output_type": "pyout",
       "prompt_number": 12,
       "text": [
        "(-20, 60)"
       ]
      },
      {
       "metadata": {},
       "output_type": "display_data",
       "png": "[encoded data removed]",
       "text": [
        "<matplotlib.figure.Figure at 0x1139f7110>"
       ]
      }
     ],
     "prompt_number": 12
    },
    {
     "cell_type": "markdown",
     "metadata": {},
     "source": [
      "$\\text{Pr}(\\max\\{ \\theta_j \\} > 28.4 \\mid y)$ can be calculated as:"
     ]
    },
    {
     "cell_type": "code",
     "collapsed": false,
     "input": [
      "np.mean(samples_df.max(axis=1) > 28.4)"
     ],
     "language": "python",
     "metadata": {},
     "outputs": [
      {
       "metadata": {},
       "output_type": "pyout",
       "prompt_number": 13,
       "text": [
        "0.055"
       ]
      }
     ],
     "prompt_number": 13
    },
    {
     "cell_type": "markdown",
     "metadata": {},
     "source": [
      "Since the probability is small, the accuracy with only 200 samples is quite poor.\n",
      "\n",
      "We can also compute $\\text{Pr}(\\theta_1 > \\theta_3 \\mid y)$:"
     ]
    },
    {
     "cell_type": "code",
     "collapsed": false,
     "input": [
      "np.mean(samples_df['A'] > samples_df['C'])"
     ],
     "language": "python",
     "metadata": {},
     "outputs": [
      {
       "metadata": {},
       "output_type": "pyout",
       "prompt_number": 14,
       "text": [
        "0.61499999999999999"
       ]
      }
     ],
     "prompt_number": 14
    },
    {
     "cell_type": "markdown",
     "metadata": {},
     "source": [
      "## Clinical Trials of Beta-blockers (BDA 5.6) ##\n",
      "\n",
      "Here, we perform a meta-analysis which estimates the effect of beta-blockers from 22 clinical trials.  Since a lot of plots are omitted in this chapter of the book, this notebook might be interesting for someone who wanted to take a deeper look on this analysis. \n",
      "\n",
      "The data can be retrieved from the BDA book website:"
     ]
    },
    {
     "cell_type": "code",
     "collapsed": false,
     "input": [
      "blocker_data = read_csv(\"http://www.stat.columbia.edu/~gelman/book/data/meta.asc\",\n",
      "                        index_col='study', skiprows=3, delim_whitespace=True)"
     ],
     "language": "python",
     "metadata": {},
     "outputs": [],
     "prompt_number": 15
    },
    {
     "cell_type": "code",
     "collapsed": false,
     "input": [
      "blocker_data"
     ],
     "language": "python",
     "metadata": {},
     "outputs": [
      {
       "html": [
        "<div style=\"max-height:1000px;max-width:1500px;overflow:auto;\">\n",
        "<table border=\"1\" class=\"dataframe\">\n",
        "  <thead>\n",
        "    <tr style=\"text-align: right;\">\n",
        "      <th></th>\n",
        "      <th>control.deaths</th>\n",
        "      <th>control.total</th>\n",
        "      <th>treated.deaths</th>\n",
        "      <th>treated.total</th>\n",
        "    </tr>\n",
        "    <tr>\n",
        "      <th>study</th>\n",
        "      <th></th>\n",
        "      <th></th>\n",
        "      <th></th>\n",
        "      <th></th>\n",
        "    </tr>\n",
        "  </thead>\n",
        "  <tbody>\n",
        "    <tr>\n",
        "      <th>1 </th>\n",
        "      <td>   3</td>\n",
        "      <td>   39</td>\n",
        "      <td>   3</td>\n",
        "      <td>   38</td>\n",
        "    </tr>\n",
        "    <tr>\n",
        "      <th>2 </th>\n",
        "      <td>  14</td>\n",
        "      <td>  116</td>\n",
        "      <td>   7</td>\n",
        "      <td>  114</td>\n",
        "    </tr>\n",
        "    <tr>\n",
        "      <th>3 </th>\n",
        "      <td>  11</td>\n",
        "      <td>   93</td>\n",
        "      <td>   5</td>\n",
        "      <td>   69</td>\n",
        "    </tr>\n",
        "    <tr>\n",
        "      <th>4 </th>\n",
        "      <td> 127</td>\n",
        "      <td> 1520</td>\n",
        "      <td> 102</td>\n",
        "      <td> 1533</td>\n",
        "    </tr>\n",
        "    <tr>\n",
        "      <th>5 </th>\n",
        "      <td>  27</td>\n",
        "      <td>  365</td>\n",
        "      <td>  28</td>\n",
        "      <td>  355</td>\n",
        "    </tr>\n",
        "    <tr>\n",
        "      <th>6 </th>\n",
        "      <td>   6</td>\n",
        "      <td>   52</td>\n",
        "      <td>   4</td>\n",
        "      <td>   59</td>\n",
        "    </tr>\n",
        "    <tr>\n",
        "      <th>7 </th>\n",
        "      <td> 152</td>\n",
        "      <td>  939</td>\n",
        "      <td>  98</td>\n",
        "      <td>  945</td>\n",
        "    </tr>\n",
        "    <tr>\n",
        "      <th>8 </th>\n",
        "      <td>  48</td>\n",
        "      <td>  471</td>\n",
        "      <td>  60</td>\n",
        "      <td>  632</td>\n",
        "    </tr>\n",
        "    <tr>\n",
        "      <th>9 </th>\n",
        "      <td>  37</td>\n",
        "      <td>  282</td>\n",
        "      <td>  25</td>\n",
        "      <td>  278</td>\n",
        "    </tr>\n",
        "    <tr>\n",
        "      <th>10</th>\n",
        "      <td> 188</td>\n",
        "      <td> 1921</td>\n",
        "      <td> 138</td>\n",
        "      <td> 1916</td>\n",
        "    </tr>\n",
        "    <tr>\n",
        "      <th>11</th>\n",
        "      <td>  52</td>\n",
        "      <td>  583</td>\n",
        "      <td>  64</td>\n",
        "      <td>  873</td>\n",
        "    </tr>\n",
        "    <tr>\n",
        "      <th>12</th>\n",
        "      <td>  47</td>\n",
        "      <td>  266</td>\n",
        "      <td>  45</td>\n",
        "      <td>  263</td>\n",
        "    </tr>\n",
        "    <tr>\n",
        "      <th>13</th>\n",
        "      <td>  16</td>\n",
        "      <td>  293</td>\n",
        "      <td>   9</td>\n",
        "      <td>  291</td>\n",
        "    </tr>\n",
        "    <tr>\n",
        "      <th>14</th>\n",
        "      <td>  45</td>\n",
        "      <td>  883</td>\n",
        "      <td>  57</td>\n",
        "      <td>  858</td>\n",
        "    </tr>\n",
        "    <tr>\n",
        "      <th>15</th>\n",
        "      <td>  31</td>\n",
        "      <td>  147</td>\n",
        "      <td>  25</td>\n",
        "      <td>  154</td>\n",
        "    </tr>\n",
        "    <tr>\n",
        "      <th>16</th>\n",
        "      <td>  38</td>\n",
        "      <td>  213</td>\n",
        "      <td>  33</td>\n",
        "      <td>  207</td>\n",
        "    </tr>\n",
        "    <tr>\n",
        "      <th>17</th>\n",
        "      <td>  12</td>\n",
        "      <td>  122</td>\n",
        "      <td>  28</td>\n",
        "      <td>  251</td>\n",
        "    </tr>\n",
        "    <tr>\n",
        "      <th>18</th>\n",
        "      <td>   6</td>\n",
        "      <td>  154</td>\n",
        "      <td>   8</td>\n",
        "      <td>  151</td>\n",
        "    </tr>\n",
        "    <tr>\n",
        "      <th>19</th>\n",
        "      <td>   3</td>\n",
        "      <td>  134</td>\n",
        "      <td>   6</td>\n",
        "      <td>  174</td>\n",
        "    </tr>\n",
        "    <tr>\n",
        "      <th>20</th>\n",
        "      <td>  40</td>\n",
        "      <td>  218</td>\n",
        "      <td>  32</td>\n",
        "      <td>  209</td>\n",
        "    </tr>\n",
        "    <tr>\n",
        "      <th>21</th>\n",
        "      <td>  43</td>\n",
        "      <td>  364</td>\n",
        "      <td>  27</td>\n",
        "      <td>  391</td>\n",
        "    </tr>\n",
        "    <tr>\n",
        "      <th>22</th>\n",
        "      <td>  39</td>\n",
        "      <td>  674</td>\n",
        "      <td>  22</td>\n",
        "      <td>  680</td>\n",
        "    </tr>\n",
        "  </tbody>\n",
        "</table>\n",
        "</div>"
       ],
       "metadata": {},
       "output_type": "pyout",
       "prompt_number": 16,
       "text": [
        "       control.deaths  control.total  treated.deaths  treated.total\n",
        "study                                                              \n",
        "1                   3             39               3             38\n",
        "2                  14            116               7            114\n",
        "3                  11             93               5             69\n",
        "4                 127           1520             102           1533\n",
        "5                  27            365              28            355\n",
        "6                   6             52               4             59\n",
        "7                 152            939              98            945\n",
        "8                  48            471              60            632\n",
        "9                  37            282              25            278\n",
        "10                188           1921             138           1916\n",
        "11                 52            583              64            873\n",
        "12                 47            266              45            263\n",
        "13                 16            293               9            291\n",
        "14                 45            883              57            858\n",
        "15                 31            147              25            154\n",
        "16                 38            213              33            207\n",
        "17                 12            122              28            251\n",
        "18                  6            154               8            151\n",
        "19                  3            134               6            174\n",
        "20                 40            218              32            209\n",
        "21                 43            364              27            391\n",
        "22                 39            674              22            680"
       ]
      }
     ],
     "prompt_number": 16
    },
    {
     "cell_type": "markdown",
     "metadata": {},
     "source": [
      "Our estimand in this analysis is log odds ratio; this is estimated by empirical logit which sampling variance is estimated by eq (5.24).  We regard these values as means and variances of hierarchical normal means model.  First, let us calculate these values:"
     ]
    },
    {
     "cell_type": "code",
     "collapsed": false,
     "input": [
      "blocker_data['means'] = np.log(blocker_data['treated.deaths']\\\n",
      "                               /(blocker_data['treated.total']-blocker_data['treated.deaths'])) \\\n",
      "                        - np.log(blocker_data['control.deaths']\\\n",
      "                               /(blocker_data['control.total']-blocker_data['control.deaths']))\n",
      "blocker_data['serrs'] = np.sqrt(1.0/blocker_data['treated.deaths'] + \n",
      "                                1.0/(blocker_data['treated.total'] - 1.0/blocker_data['treated.deaths']) + \n",
      "                                1.0/blocker_data['control.deaths'] + \n",
      "                                1.0/(blocker_data['control.total'] - 1.0/blocker_data['control.deaths']))                                "
     ],
     "language": "python",
     "metadata": {},
     "outputs": [],
     "prompt_number": 17
    },
    {
     "cell_type": "code",
     "collapsed": false,
     "input": [
      "import pylab as pl\n",
      "# grid points to evaluate evaluate density function\n",
      "tau_min = 0; tau_max = 0.6; tau_grid_num = 1000\n",
      "tau_knots = np.linspace(tau_min, tau_max, tau_grid_num)\n",
      "lop_posterior_tau_densities = \\\n",
      "    log_posterior_tau(tau_knots, blocker_data.means, \n",
      "                      blocker_data.serrs, log_prior=lambda tau: 0)\n",
      "# when calculating densities, it is numerically more stable to \n",
      "# first compute in log space, subtract the maximum, and then exponentiate\n",
      "posterior_tau_densities = \\\n",
      "        np.exp(lop_posterior_tau_densities - np.max(lop_posterior_tau_densities))\n",
      "#np.exp(log_posterior_tau_densities - log_posterior_tau_densities.max())\n",
      "pl.plot(tau_knots, posterior_tau_densities, color='k', linestyle='-', linewidth=1)\n",
      "pl.axes().set_xlabel(r'$\\tau$')\n",
      "# the y-axis of unnormalized posterior means nothing, so rather hide the scale\n",
      "pl.axes().get_yaxis().set_visible(False)"
     ],
     "language": "python",
     "metadata": {},
     "outputs": [
      {
       "metadata": {},
       "output_type": "display_data",
       "png": "[encoded data removed]",
       "text": [
        "<matplotlib.figure.Figure at 0x1139f70d0>"
       ]
      }
     ],
     "prompt_number": 18
    },
    {
     "cell_type": "markdown",
     "metadata": {},
     "source": [
      "As mentioned in the book, the marginal posterior density function of $\\tau$ peaks at nonzero value, but still values around zero are quite plausible.\n",
      "\n",
      "The plot below shows mean effects conditioned on $\\tau$; combined with the information from plot above, this indicates that moderate amount of shrinkage in estimates are necessary."
     ]
    },
    {
     "cell_type": "code",
     "collapsed": false,
     "input": [
      "def mean_posterior_given_tau(tau, means, serrs):\n",
      "    assert(len(means) == len(serrs))\n",
      "    marginal_variances = serrs ** 2 + tau ** 2\n",
      "    total_variance = 1.0/np.sum(1.0/marginal_variances)\n",
      "    # precision weighted average\n",
      "    mu_hat = np.sum((1.0/marginal_variances) * means) / \\\n",
      "            np.sum(1.0/marginal_variances)\n",
      "    if tau == 0:\n",
      "        return np.repeat(mu_hat, len(means))\n",
      "    return ((1.0/(serrs ** 2)) * means + 1.0/(tau ** 2) * mu_hat) / (1.0/(serrs ** 2) + 1.0/(tau ** 2))\n",
      "\n",
      "def sd_posterior_given_tau(tau, serrs):\n",
      "    marginal_variances = serrs ** 2 + tau ** 2\n",
      "    total_variance = 1.0/np.sum(1.0/marginal_variances)\n",
      "    individual_variances = (((serrs ** 2)/(serrs ** 2 + tau ** 2)) ** 2) * total_variance\n",
      "    if tau == 0:\n",
      "        return np.sqrt(individual_variances)\n",
      "    return np.sqrt(individual_variances + 1.0 / (1.0/(serrs ** 2) + 1.0/(tau ** 2)))\n",
      "\n",
      "mean_posterior_given_taus = \\\n",
      "    np.vectorize(mean_posterior_given_tau, otypes=[np.ndarray], excluded=[1,2])\n",
      "tau_conditional_means = \\\n",
      "        pandas.DataFrame.from_records(mean_posterior_given_taus(tau_knots, blocker_data.means, blocker_data.serrs),\n",
      "                                      index=tau_knots, columns=blocker_data.index)\n",
      "    \n",
      "sd_posterior_given_taus = \\\n",
      "    np.vectorize(sd_posterior_given_tau, otypes=[np.ndarray], excluded=[1])\n",
      "tau_conditional_sds = \\\n",
      "        pandas.DataFrame.from_records(sd_posterior_given_taus(tau_knots, blocker_data.serrs),\n",
      "                                      index = tau_knots, columns=blocker_data.index)\n",
      "# I was not able to put inline labels in Python. \n",
      "# this page contains an example code for it: http://stackoverflow.com/questions/16992038/inline-labels-in-matplotlib\n",
      "tau_conditional_means.plot()\n",
      "pl.legend(bbox_to_anchor=(1.05, 1), loc=2)\n",
      "pl.ylim(-1,0.5)\n",
      "pl.axes().set_xlabel(r'$\\tau$')\n",
      "pl.show()"
     ],
     "language": "python",
     "metadata": {},
     "outputs": [
      {
       "metadata": {},
       "output_type": "display_data",
       "png": "[encoded data removed]",
       "text": [
        "<matplotlib.figure.Figure at 0x113786750>"
       ]
      }
     ],
     "prompt_number": 19
    },
    {
     "cell_type": "markdown",
     "metadata": {},
     "source": [
      "Now let us sample from the joint posterior distribution."
     ]
    },
    {
     "cell_type": "code",
     "collapsed": false,
     "input": [
      "# seed the RNG\n",
      "np.random.seed(1353135)\n",
      "sample_num = 5000\n",
      "# first sample tau's\n",
      "tau_probs = posterior_tau_densities / posterior_tau_densities.sum()\n",
      "samples_tau = np.random.choice(tau_knots, sample_num, p=tau_probs)\n",
      "# now sample mu conditioned on tau\n",
      "samples_df = DataFrame.from_records(sample_means_from_taus(samples_tau, blocker_data.means, \n",
      "                                                           blocker_data.serrs, include_mu=True),\n",
      "                                    columns=np.concatenate((['mu'],blocker_data.index)))"
     ],
     "language": "python",
     "metadata": {},
     "outputs": [],
     "prompt_number": 20
    },
    {
     "cell_type": "code",
     "collapsed": false,
     "input": [
      "samples_columns_df = samples_df.drop('mu', 1)"
     ],
     "language": "python",
     "metadata": {},
     "outputs": [],
     "prompt_number": 21
    },
    {
     "cell_type": "markdown",
     "metadata": {},
     "source": [
      "Posterior quantiles in Table 5.4 can now be reproduced."
     ]
    },
    {
     "cell_type": "code",
     "collapsed": false,
     "input": [
      "samples_columns_df.quantile([0.025,0.25,0.5,0.75,0.975]).transpose().apply(lambda x:np.round(x,decimals=2))"
     ],
     "language": "python",
     "metadata": {},
     "outputs": [
      {
       "html": [
        "<div style=\"max-height:1000px;max-width:1500px;overflow:auto;\">\n",
        "<table border=\"1\" class=\"dataframe\">\n",
        "  <thead>\n",
        "    <tr style=\"text-align: right;\">\n",
        "      <th></th>\n",
        "      <th>0.025</th>\n",
        "      <th>0.25</th>\n",
        "      <th>0.5</th>\n",
        "      <th>0.75</th>\n",
        "      <th>0.975</th>\n",
        "    </tr>\n",
        "  </thead>\n",
        "  <tbody>\n",
        "    <tr>\n",
        "      <th>1</th>\n",
        "      <td>-0.58</td>\n",
        "      <td>-0.32</td>\n",
        "      <td>-0.25</td>\n",
        "      <td>-0.15</td>\n",
        "      <td> 0.12</td>\n",
        "    </tr>\n",
        "    <tr>\n",
        "      <th>2</th>\n",
        "      <td>-0.64</td>\n",
        "      <td>-0.37</td>\n",
        "      <td>-0.28</td>\n",
        "      <td>-0.20</td>\n",
        "      <td>-0.01</td>\n",
        "    </tr>\n",
        "    <tr>\n",
        "      <th>3</th>\n",
        "      <td>-0.60</td>\n",
        "      <td>-0.35</td>\n",
        "      <td>-0.27</td>\n",
        "      <td>-0.19</td>\n",
        "      <td> 0.03</td>\n",
        "    </tr>\n",
        "    <tr>\n",
        "      <th>4</th>\n",
        "      <td>-0.44</td>\n",
        "      <td>-0.31</td>\n",
        "      <td>-0.25</td>\n",
        "      <td>-0.19</td>\n",
        "      <td>-0.06</td>\n",
        "    </tr>\n",
        "    <tr>\n",
        "      <th>5</th>\n",
        "      <td>-0.43</td>\n",
        "      <td>-0.28</td>\n",
        "      <td>-0.21</td>\n",
        "      <td>-0.10</td>\n",
        "      <td> 0.14</td>\n",
        "    </tr>\n",
        "    <tr>\n",
        "      <th>6</th>\n",
        "      <td>-0.61</td>\n",
        "      <td>-0.34</td>\n",
        "      <td>-0.26</td>\n",
        "      <td>-0.18</td>\n",
        "      <td> 0.05</td>\n",
        "    </tr>\n",
        "    <tr>\n",
        "      <th>7</th>\n",
        "      <td>-0.61</td>\n",
        "      <td>-0.43</td>\n",
        "      <td>-0.35</td>\n",
        "      <td>-0.28</td>\n",
        "      <td>-0.17</td>\n",
        "    </tr>\n",
        "    <tr>\n",
        "      <th>8</th>\n",
        "      <td>-0.41</td>\n",
        "      <td>-0.28</td>\n",
        "      <td>-0.21</td>\n",
        "      <td>-0.13</td>\n",
        "      <td> 0.10</td>\n",
        "    </tr>\n",
        "    <tr>\n",
        "      <th>9</th>\n",
        "      <td>-0.59</td>\n",
        "      <td>-0.36</td>\n",
        "      <td>-0.28</td>\n",
        "      <td>-0.21</td>\n",
        "      <td>-0.03</td>\n",
        "    </tr>\n",
        "    <tr>\n",
        "      <th>10</th>\n",
        "      <td>-0.48</td>\n",
        "      <td>-0.35</td>\n",
        "      <td>-0.29</td>\n",
        "      <td>-0.24</td>\n",
        "      <td>-0.13</td>\n",
        "    </tr>\n",
        "    <tr>\n",
        "      <th>11</th>\n",
        "      <td>-0.47</td>\n",
        "      <td>-0.31</td>\n",
        "      <td>-0.25</td>\n",
        "      <td>-0.17</td>\n",
        "      <td> 0.01</td>\n",
        "    </tr>\n",
        "    <tr>\n",
        "      <th>12</th>\n",
        "      <td>-0.43</td>\n",
        "      <td>-0.29</td>\n",
        "      <td>-0.21</td>\n",
        "      <td>-0.12</td>\n",
        "      <td> 0.10</td>\n",
        "    </tr>\n",
        "    <tr>\n",
        "      <th>13</th>\n",
        "      <td>-0.63</td>\n",
        "      <td>-0.36</td>\n",
        "      <td>-0.28</td>\n",
        "      <td>-0.20</td>\n",
        "      <td> 0.01</td>\n",
        "    </tr>\n",
        "    <tr>\n",
        "      <th>14</th>\n",
        "      <td>-0.34</td>\n",
        "      <td>-0.22</td>\n",
        "      <td>-0.13</td>\n",
        "      <td> 0.01</td>\n",
        "      <td> 0.29</td>\n",
        "    </tr>\n",
        "    <tr>\n",
        "      <th>15</th>\n",
        "      <td>-0.55</td>\n",
        "      <td>-0.34</td>\n",
        "      <td>-0.26</td>\n",
        "      <td>-0.19</td>\n",
        "      <td> 0.03</td>\n",
        "    </tr>\n",
        "    <tr>\n",
        "      <th>16</th>\n",
        "      <td>-0.47</td>\n",
        "      <td>-0.31</td>\n",
        "      <td>-0.23</td>\n",
        "      <td>-0.15</td>\n",
        "      <td> 0.07</td>\n",
        "    </tr>\n",
        "    <tr>\n",
        "      <th>17</th>\n",
        "      <td>-0.47</td>\n",
        "      <td>-0.29</td>\n",
        "      <td>-0.21</td>\n",
        "      <td>-0.11</td>\n",
        "      <td> 0.16</td>\n",
        "    </tr>\n",
        "    <tr>\n",
        "      <th>18</th>\n",
        "      <td>-0.49</td>\n",
        "      <td>-0.31</td>\n",
        "      <td>-0.23</td>\n",
        "      <td>-0.13</td>\n",
        "      <td> 0.17</td>\n",
        "    </tr>\n",
        "    <tr>\n",
        "      <th>19</th>\n",
        "      <td>-0.52</td>\n",
        "      <td>-0.31</td>\n",
        "      <td>-0.23</td>\n",
        "      <td>-0.14</td>\n",
        "      <td> 0.17</td>\n",
        "    </tr>\n",
        "    <tr>\n",
        "      <th>20</th>\n",
        "      <td>-0.50</td>\n",
        "      <td>-0.32</td>\n",
        "      <td>-0.25</td>\n",
        "      <td>-0.17</td>\n",
        "      <td> 0.04</td>\n",
        "    </tr>\n",
        "    <tr>\n",
        "      <th>21</th>\n",
        "      <td>-0.65</td>\n",
        "      <td>-0.40</td>\n",
        "      <td>-0.31</td>\n",
        "      <td>-0.24</td>\n",
        "      <td>-0.09</td>\n",
        "    </tr>\n",
        "    <tr>\n",
        "      <th>22</th>\n",
        "      <td>-0.65</td>\n",
        "      <td>-0.40</td>\n",
        "      <td>-0.30</td>\n",
        "      <td>-0.23</td>\n",
        "      <td>-0.07</td>\n",
        "    </tr>\n",
        "  </tbody>\n",
        "</table>\n",
        "</div>"
       ],
       "metadata": {},
       "output_type": "pyout",
       "prompt_number": 22,
       "text": [
        "    0.025  0.250  0.500  0.750  0.975\n",
        "1   -0.58  -0.32  -0.25  -0.15   0.12\n",
        "2   -0.64  -0.37  -0.28  -0.20  -0.01\n",
        "3   -0.60  -0.35  -0.27  -0.19   0.03\n",
        "4   -0.44  -0.31  -0.25  -0.19  -0.06\n",
        "5   -0.43  -0.28  -0.21  -0.10   0.14\n",
        "6   -0.61  -0.34  -0.26  -0.18   0.05\n",
        "7   -0.61  -0.43  -0.35  -0.28  -0.17\n",
        "8   -0.41  -0.28  -0.21  -0.13   0.10\n",
        "9   -0.59  -0.36  -0.28  -0.21  -0.03\n",
        "10  -0.48  -0.35  -0.29  -0.24  -0.13\n",
        "11  -0.47  -0.31  -0.25  -0.17   0.01\n",
        "12  -0.43  -0.29  -0.21  -0.12   0.10\n",
        "13  -0.63  -0.36  -0.28  -0.20   0.01\n",
        "14  -0.34  -0.22  -0.13   0.01   0.29\n",
        "15  -0.55  -0.34  -0.26  -0.19   0.03\n",
        "16  -0.47  -0.31  -0.23  -0.15   0.07\n",
        "17  -0.47  -0.29  -0.21  -0.11   0.16\n",
        "18  -0.49  -0.31  -0.23  -0.13   0.17\n",
        "19  -0.52  -0.31  -0.23  -0.14   0.17\n",
        "20  -0.50  -0.32  -0.25  -0.17   0.04\n",
        "21  -0.65  -0.40  -0.31  -0.24  -0.09\n",
        "22  -0.65  -0.40  -0.30  -0.23  -0.07"
       ]
      }
     ],
     "prompt_number": 22
    },
    {
     "cell_type": "markdown",
     "metadata": {},
     "source": [
      "Now let us sample predicted effects."
     ]
    },
    {
     "cell_type": "code",
     "collapsed": false,
     "input": [
      "samples_predicted_effect = np.zeros(len(samples_tau))\n",
      "samples_predicted_effect[samples_tau > 0] = np.random.normal(loc=samples_df['mu'][samples_tau > 0],scale=samples_tau[samples_tau > 0])\n",
      "samples_predicted_effect[samples_tau == 0] = samples_df['mu'][samples_tau == 0]"
     ],
     "language": "python",
     "metadata": {},
     "outputs": [],
     "prompt_number": 23
    },
    {
     "cell_type": "markdown",
     "metadata": {},
     "source": [
      "Now Table 5.5 can be reproduced."
     ]
    },
    {
     "cell_type": "code",
     "collapsed": false,
     "input": [
      "DataFrame({'mean':samples_df['mu'], \n",
      "           'standard deviation':samples_tau, \n",
      "           'predicted_effect':samples_predicted_effect}).quantile([0.025,0.25,0.5,0.75,0.975]).transpose().apply(lambda x:np.round(x,decimals=2))"
     ],
     "language": "python",
     "metadata": {},
     "outputs": [
      {
       "html": [
        "<div style=\"max-height:1000px;max-width:1500px;overflow:auto;\">\n",
        "<table border=\"1\" class=\"dataframe\">\n",
        "  <thead>\n",
        "    <tr style=\"text-align: right;\">\n",
        "      <th></th>\n",
        "      <th>0.025</th>\n",
        "      <th>0.25</th>\n",
        "      <th>0.5</th>\n",
        "      <th>0.75</th>\n",
        "      <th>0.975</th>\n",
        "    </tr>\n",
        "  </thead>\n",
        "  <tbody>\n",
        "    <tr>\n",
        "      <th>mean</th>\n",
        "      <td>-0.37</td>\n",
        "      <td>-0.29</td>\n",
        "      <td>-0.25</td>\n",
        "      <td>-0.21</td>\n",
        "      <td>-0.11</td>\n",
        "    </tr>\n",
        "    <tr>\n",
        "      <th>predicted_effect</th>\n",
        "      <td>-0.60</td>\n",
        "      <td>-0.33</td>\n",
        "      <td>-0.25</td>\n",
        "      <td>-0.16</td>\n",
        "      <td> 0.14</td>\n",
        "    </tr>\n",
        "    <tr>\n",
        "      <th>standard deviation</th>\n",
        "      <td> 0.01</td>\n",
        "      <td> 0.07</td>\n",
        "      <td> 0.13</td>\n",
        "      <td> 0.18</td>\n",
        "      <td> 0.31</td>\n",
        "    </tr>\n",
        "  </tbody>\n",
        "</table>\n",
        "</div>"
       ],
       "metadata": {},
       "output_type": "pyout",
       "prompt_number": 24,
       "text": [
        "                    0.025  0.250  0.500  0.750  0.975\n",
        "mean                -0.37  -0.29  -0.25  -0.21  -0.11\n",
        "predicted_effect    -0.60  -0.33  -0.25  -0.16   0.14\n",
        "standard deviation   0.01   0.07   0.13   0.18   0.31"
       ]
      }
     ],
     "prompt_number": 24
    },
    {
     "cell_type": "markdown",
     "metadata": {},
     "source": [
      "Histograms of estimates, not shown in the book, are presented below."
     ]
    },
    {
     "cell_type": "code",
     "collapsed": false,
     "input": [
      "samples_columns_df.hist(figsize=(12,12),sharex=True, bins=20)"
     ],
     "language": "python",
     "metadata": {},
     "outputs": [
      {
       "metadata": {},
       "output_type": "pyout",
       "prompt_number": 25,
       "text": [
        "array([[<matplotlib.axes._subplots.AxesSubplot object at 0x113893fd0>,\n",
        "        <matplotlib.axes._subplots.AxesSubplot object at 0x11361bfd0>,\n",
        "        <matplotlib.axes._subplots.AxesSubplot object at 0x1139f7310>,\n",
        "        <matplotlib.axes._subplots.AxesSubplot object at 0x113610150>,\n",
        "        <matplotlib.axes._subplots.AxesSubplot object at 0x1138b48d0>],\n",
        "       [<matplotlib.axes._subplots.AxesSubplot object at 0x1135c1750>,\n",
        "        <matplotlib.axes._subplots.AxesSubplot object at 0x113741e50>,\n",
        "        <matplotlib.axes._subplots.AxesSubplot object at 0x11359bb90>,\n",
        "        <matplotlib.axes._subplots.AxesSubplot object at 0x113752610>,\n",
        "        <matplotlib.axes._subplots.AxesSubplot object at 0x1137ca790>],\n",
        "       [<matplotlib.axes._subplots.AxesSubplot object at 0x114418ed0>,\n",
        "        <matplotlib.axes._subplots.AxesSubplot object at 0x113bd7090>,\n",
        "        <matplotlib.axes._subplots.AxesSubplot object at 0x113b89350>,\n",
        "        <matplotlib.axes._subplots.AxesSubplot object at 0x11466c810>,\n",
        "        <matplotlib.axes._subplots.AxesSubplot object at 0x1146f0990>],\n",
        "       [<matplotlib.axes._subplots.AxesSubplot object at 0x11473dd90>,\n",
        "        <matplotlib.axes._subplots.AxesSubplot object at 0x1147c3c50>,\n",
        "        <matplotlib.axes._subplots.AxesSubplot object at 0x1147785d0>,\n",
        "        <matplotlib.axes._subplots.AxesSubplot object at 0x1148b4510>,\n",
        "        <matplotlib.axes._subplots.AxesSubplot object at 0x114938590>],\n",
        "       [<matplotlib.axes._subplots.AxesSubplot object at 0x11499c650>,\n",
        "        <matplotlib.axes._subplots.AxesSubplot object at 0x114a207d0>,\n",
        "        <matplotlib.axes._subplots.AxesSubplot object at 0x11486af10>,\n",
        "        <matplotlib.axes._subplots.AxesSubplot object at 0x114afaf90>,\n",
        "        <matplotlib.axes._subplots.AxesSubplot object at 0x114b7fcd0>]], dtype=object)"
       ]
      },
      {
       "metadata": {},
       "output_type": "display_data",
       "png": "[encoded data removed]",
       "text": [
        "<matplotlib.figure.Figure at 0x1145f2250>"
       ]
      }
     ],
     "prompt_number": 25
    },
    {
     "cell_type": "code",
     "collapsed": false,
     "input": [
      "def mean_posterior_of_mean_given_tau(tau, means, serrs):\n",
      "    assert(len(means) == len(serrs))\n",
      "    marginal_variances = serrs ** 2 + tau ** 2\n",
      "    total_variance = 1.0/np.sum(1.0/marginal_variances)\n",
      "    # precision weighted average\n",
      "    mu_hat = np.sum((1.0/marginal_variances) * means) / \\\n",
      "            np.sum(1.0/marginal_variances)\n",
      "    return mu_hat\n",
      "\n",
      "def sd_posterior_of_mean_given_tau(tau, means, serrs):\n",
      "    assert(len(means) == len(serrs))\n",
      "    marginal_variances = serrs ** 2 + tau ** 2\n",
      "    total_variance = 1.0/np.sum(1.0/marginal_variances)\n",
      "    return np.sqrt(total_variance)\n",
      "\n",
      "mean_posterior_of_mean_given_taus = \\\n",
      "    np.vectorize(mean_posterior_of_mean_given_tau, otypes=[np.ndarray], excluded=[1,2])\n",
      "sd_posterior_of_mean_given_taus = \\\n",
      "    np.vectorize(sd_posterior_of_mean_given_tau, otypes=[np.ndarray], excluded=[1,2])"
     ],
     "language": "python",
     "metadata": {},
     "outputs": [],
     "prompt_number": 26
    },
    {
     "cell_type": "markdown",
     "metadata": {},
     "source": [
      "Recall this was the posterior density of $\\tau$:"
     ]
    },
    {
     "cell_type": "code",
     "collapsed": false,
     "input": [
      "pl.plot(tau_knots, posterior_tau_densities, color='k', linestyle='-', linewidth=1)\n",
      "pl.axes().set_xlabel(r'$\\tau$')\n",
      "# the y-axis of unnormalized posterior means nothing, so rather hide the scale\n",
      "pl.axes().get_yaxis().set_visible(False)"
     ],
     "language": "python",
     "metadata": {},
     "outputs": [
      {
       "metadata": {},
       "output_type": "display_data",
       "png": "[encoded data removed]",
       "text": [
        "<matplotlib.figure.Figure at 0x114e20210>"
       ]
      }
     ],
     "prompt_number": 27
    },
    {
     "cell_type": "markdown",
     "metadata": {},
     "source": [
      "Compared to the posterior quantile values of data, the conditional $\\mu \\mid \\tau$ changes very little within most plausible region of $\\tau$."
     ]
    },
    {
     "cell_type": "code",
     "collapsed": false,
     "input": [
      "pl.plot(tau_knots, mean_posterior_of_mean_given_taus(tau_knots, blocker_data.means, blocker_data.serrs))\n",
      "#pl.ylim((-0.6,0.1))\n",
      "pl.axes().set_xlabel(r'$E[\\mu \\mid \\tau,y]$')"
     ],
     "language": "python",
     "metadata": {},
     "outputs": [
      {
       "metadata": {},
       "output_type": "pyout",
       "prompt_number": 28,
       "text": [
        "<matplotlib.text.Text at 0x114f7b390>"
       ]
      },
      {
       "metadata": {},
       "output_type": "display_data",
       "png": "[encoded data removed]",
       "text": [
        "<matplotlib.figure.Figure at 0x115e26dd0>"
       ]
      }
     ],
     "prompt_number": 28
    },
    {
     "cell_type": "markdown",
     "metadata": {},
     "source": [
      "However, the standard deviation changes greatly."
     ]
    },
    {
     "cell_type": "code",
     "collapsed": false,
     "input": [
      "pl.plot(tau_knots, sd_posterior_of_mean_given_taus(tau_knots, blocker_data.means, blocker_data.serrs))\n",
      "pl.axes().set_xlabel(r'sd$[\\mu \\mid \\tau,y]$')"
     ],
     "language": "python",
     "metadata": {},
     "outputs": [
      {
       "metadata": {},
       "output_type": "pyout",
       "prompt_number": 29,
       "text": [
        "<matplotlib.text.Text at 0x1161bdf90>"
       ]
      },
      {
       "metadata": {},
       "output_type": "display_data",
       "png": "[encoded data removed]",
       "text": [
        "<matplotlib.figure.Figure at 0x11501ea90>"
       ]
      }
     ],
     "prompt_number": 29
    },
    {
     "cell_type": "markdown",
     "metadata": {},
     "source": [
      "The book comments the value of $\\text{sd}(\\mu \\mid \\tau,y)$ at $\\tau=0.13$:"
     ]
    },
    {
     "cell_type": "code",
     "collapsed": false,
     "input": [
      "sd_posterior_of_mean_given_tau(0.13, blocker_data.means, blocker_data.serrs)"
     ],
     "language": "python",
     "metadata": {},
     "outputs": [
      {
       "metadata": {},
       "output_type": "pyout",
       "prompt_number": 30,
       "text": [
        "0.061826519379229505"
       ]
      }
     ],
     "prompt_number": 30
    },
    {
     "cell_type": "markdown",
     "metadata": {},
     "source": [
      "On the other hand, $\\text{sd}(\\mu \\mid y)$, marginalized over $\\tau$, can be computed from posterior samples as follows:"
     ]
    },
    {
     "cell_type": "code",
     "collapsed": false,
     "input": [
      "samples_df['mu'].std()"
     ],
     "language": "python",
     "metadata": {},
     "outputs": [
      {
       "metadata": {},
       "output_type": "pyout",
       "prompt_number": 31,
       "text": [
        "0.064647961365995488"
       ]
      }
     ],
     "prompt_number": 31
    },
    {
     "cell_type": "markdown",
     "metadata": {},
     "source": [
      "Well this is a bit different from the value in the book, 0.071.  I wonder why...?"
     ]
    },
    {
     "cell_type": "code",
     "collapsed": false,
     "input": [],
     "language": "python",
     "metadata": {},
     "outputs": [],
     "prompt_number": 31
    }
   ],
   "metadata": {}
  }
 ]
}