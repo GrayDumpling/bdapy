{
 "metadata": {
  "name": "",
  "signature": "sha256:73ee8ce962615ee20dd0a4987b6178c71763b19f6dc50c3d04e95336fe9d4625"
 },
 "nbformat": 3,
 "nbformat_minor": 0,
 "worksheets": [
  {
   "cells": [
    {
     "cell_type": "markdown",
     "metadata": {},
     "source": [
      "# Forecasting Presidental Elections (BDA 15.2) #\n",
      "\n",
      "In this notebook, we learn about the advantage of using hierarchical linear model as opposed to non-hierarchical model, by building a forecasting model for presidential elections.  \n"
     ]
    },
    {
     "cell_type": "code",
     "collapsed": false,
     "input": [
      "% pylab inline\n",
      "from pandas import *\n",
      "\n",
      "np.random.seed(13571)\n",
      "\n",
      "# define sampler for inverse chi-squared distribution\n",
      "def r_inv_chisquare(size, df, scale_sq):\n",
      "    return df * scale_sq / np.random.chisquare(df, size)"
     ],
     "language": "python",
     "metadata": {},
     "outputs": [
      {
       "output_type": "stream",
       "stream": "stdout",
       "text": [
        "Populating the interactive namespace from numpy and matplotlib\n"
       ]
      },
      {
       "output_type": "stream",
       "stream": "stderr",
       "text": [
        "WARNING: pylab import has clobbered these variables: ['datetime', 'load', 'save', 'unique', 'info']\n",
        "`%matplotlib` prevents importing * from pylab and numpy\n"
       ]
      }
     ],
     "prompt_number": 338
    },
    {
     "cell_type": "markdown",
     "metadata": {},
     "source": [
      "Again, the data is from BDA book's homepage.  Somehow the below command does not work if engine=\"c\", which is a default value.  Very frustrating!"
     ]
    },
    {
     "cell_type": "code",
     "collapsed": false,
     "input": [
      "# I could not figure out how to do this in \"c\" engine.  how frustrating!\n",
      "presidental_df = read_csv(\"http://www.stat.columbia.edu/~gelman/book/data/presidential.asc\",\n",
      "                          skiprows=28, delimiter=r\"\\s+\", engine=\"python\")"
     ],
     "language": "python",
     "metadata": {},
     "outputs": [],
     "prompt_number": 186
    },
    {
     "cell_type": "code",
     "collapsed": false,
     "input": [
      "presidental_df.head()"
     ],
     "language": "python",
     "metadata": {},
     "outputs": [
      {
       "html": [
        "<div style=\"max-height:1000px;max-width:1500px;overflow:auto;\">\n",
        "<table border=\"1\" class=\"dataframe\">\n",
        "  <thead>\n",
        "    <tr style=\"text-align: right;\">\n",
        "      <th></th>\n",
        "      <th>Dvote</th>\n",
        "      <th>year</th>\n",
        "      <th>state</th>\n",
        "      <th>evotes</th>\n",
        "      <th>constant</th>\n",
        "      <th>n1</th>\n",
        "      <th>n2</th>\n",
        "      <th>n3</th>\n",
        "      <th>n4</th>\n",
        "      <th>s1</th>\n",
        "      <th>...</th>\n",
        "      <th>s6</th>\n",
        "      <th>s7</th>\n",
        "      <th>s8</th>\n",
        "      <th>s9</th>\n",
        "      <th>r1</th>\n",
        "      <th>r2</th>\n",
        "      <th>r3</th>\n",
        "      <th>r4</th>\n",
        "      <th>r5</th>\n",
        "      <th>r6</th>\n",
        "    </tr>\n",
        "  </thead>\n",
        "  <tbody>\n",
        "    <tr>\n",
        "      <th>0</th>\n",
        "      <td> 0.462334</td>\n",
        "      <td> 1992</td>\n",
        "      <td> 1</td>\n",
        "      <td>  9</td>\n",
        "      <td> 1</td>\n",
        "      <td> 0.575</td>\n",
        "      <td>-0.37</td>\n",
        "      <td>-0.37</td>\n",
        "      <td>-0.345</td>\n",
        "      <td>-0.058</td>\n",
        "      <td>...</td>\n",
        "      <td>-0.608585</td>\n",
        "      <td>-0.5169</td>\n",
        "      <td>-0.110199</td>\n",
        "      <td> 0</td>\n",
        "      <td> 1</td>\n",
        "      <td> 0</td>\n",
        "      <td> 0</td>\n",
        "      <td> 0</td>\n",
        "      <td> 0</td>\n",
        "      <td> 0</td>\n",
        "    </tr>\n",
        "    <tr>\n",
        "      <th>1</th>\n",
        "      <td> 0.436794</td>\n",
        "      <td> 1992</td>\n",
        "      <td> 2</td>\n",
        "      <td>  3</td>\n",
        "      <td> 1</td>\n",
        "      <td> 0.575</td>\n",
        "      <td>-0.37</td>\n",
        "      <td>-0.37</td>\n",
        "      <td>-0.345</td>\n",
        "      <td>-0.084</td>\n",
        "      <td>...</td>\n",
        "      <td>-0.608585</td>\n",
        "      <td> 0.2181</td>\n",
        "      <td>-0.170000</td>\n",
        "      <td> 0</td>\n",
        "      <td> 0</td>\n",
        "      <td> 0</td>\n",
        "      <td> 0</td>\n",
        "      <td> 0</td>\n",
        "      <td> 0</td>\n",
        "      <td> 0</td>\n",
        "    </tr>\n",
        "    <tr>\n",
        "      <th>2</th>\n",
        "      <td> 0.489230</td>\n",
        "      <td> 1992</td>\n",
        "      <td> 3</td>\n",
        "      <td>  8</td>\n",
        "      <td> 1</td>\n",
        "      <td> 0.575</td>\n",
        "      <td>-0.37</td>\n",
        "      <td>-0.37</td>\n",
        "      <td>-0.345</td>\n",
        "      <td>-0.068</td>\n",
        "      <td>...</td>\n",
        "      <td> 0.691415</td>\n",
        "      <td>-0.3627</td>\n",
        "      <td>-0.170000</td>\n",
        "      <td> 0</td>\n",
        "      <td> 0</td>\n",
        "      <td> 0</td>\n",
        "      <td> 0</td>\n",
        "      <td> 0</td>\n",
        "      <td> 0</td>\n",
        "      <td> 0</td>\n",
        "    </tr>\n",
        "    <tr>\n",
        "      <th>3</th>\n",
        "      <td> 0.598887</td>\n",
        "      <td> 1992</td>\n",
        "      <td> 4</td>\n",
        "      <td>  6</td>\n",
        "      <td> 1</td>\n",
        "      <td> 0.575</td>\n",
        "      <td>-0.37</td>\n",
        "      <td>-0.37</td>\n",
        "      <td>-0.345</td>\n",
        "      <td>-0.033</td>\n",
        "      <td>...</td>\n",
        "      <td>-1.408585</td>\n",
        "      <td>-0.2121</td>\n",
        "      <td>-0.050335</td>\n",
        "      <td> 0</td>\n",
        "      <td> 1</td>\n",
        "      <td> 0</td>\n",
        "      <td> 0</td>\n",
        "      <td> 0</td>\n",
        "      <td> 0</td>\n",
        "      <td> 0</td>\n",
        "    </tr>\n",
        "    <tr>\n",
        "      <th>4</th>\n",
        "      <td> 0.590312</td>\n",
        "      <td> 1992</td>\n",
        "      <td> 5</td>\n",
        "      <td> 54</td>\n",
        "      <td> 1</td>\n",
        "      <td> 0.575</td>\n",
        "      <td>-0.37</td>\n",
        "      <td>-0.37</td>\n",
        "      <td>-0.345</td>\n",
        "      <td> 0.021</td>\n",
        "      <td>...</td>\n",
        "      <td> 0.991415</td>\n",
        "      <td> 0.1496</td>\n",
        "      <td> 0.109646</td>\n",
        "      <td> 0</td>\n",
        "      <td> 0</td>\n",
        "      <td> 0</td>\n",
        "      <td> 0</td>\n",
        "      <td> 0</td>\n",
        "      <td> 0</td>\n",
        "      <td> 0</td>\n",
        "    </tr>\n",
        "  </tbody>\n",
        "</table>\n",
        "<p>5 rows \u00d7 24 columns</p>\n",
        "</div>"
       ],
       "metadata": {},
       "output_type": "pyout",
       "prompt_number": 187,
       "text": [
        "      Dvote  year  state  evotes  constant     n1    n2    n3     n4     s1  \\\n",
        "0  0.462334  1992      1       9         1  0.575 -0.37 -0.37 -0.345 -0.058   \n",
        "1  0.436794  1992      2       3         1  0.575 -0.37 -0.37 -0.345 -0.084   \n",
        "2  0.489230  1992      3       8         1  0.575 -0.37 -0.37 -0.345 -0.068   \n",
        "3  0.598887  1992      4       6         1  0.575 -0.37 -0.37 -0.345 -0.033   \n",
        "4  0.590312  1992      5      54         1  0.575 -0.37 -0.37 -0.345  0.021   \n",
        "\n",
        "  ...        s6      s7        s8  s9  r1  r2  r3  r4  r5  r6  \n",
        "0 ... -0.608585 -0.5169 -0.110199   0   1   0   0   0   0   0  \n",
        "1 ... -0.608585  0.2181 -0.170000   0   0   0   0   0   0   0  \n",
        "2 ...  0.691415 -0.3627 -0.170000   0   0   0   0   0   0   0  \n",
        "3 ... -1.408585 -0.2121 -0.050335   0   1   0   0   0   0   0  \n",
        "4 ...  0.991415  0.1496  0.109646   0   0   0   0   0   0   0  \n",
        "\n",
        "[5 rows x 24 columns]"
       ]
      }
     ],
     "prompt_number": 187
    },
    {
     "cell_type": "markdown",
     "metadata": {},
     "source": [
      "The data looks like above.  For detailed description of each column, please read skipped rows at the top of the file.\n",
      "\n",
      "Here, we want to reproduce Figure 15.1, but unfortunately we cannot infer mapping from state indices to actual state names, so I am just showing points here.  The below plot shows how the share of democratic vote in 1984 is related to that in 1988; almost linear relationship is observed."
     ]
    },
    {
     "cell_type": "code",
     "collapsed": false,
     "input": [
      "df_1984 = presidental_df.loc[(presidental_df['year'] == 1984),('Dvote','state')]\n",
      "df_1984.rename(columns={'Dvote':'Dvote1984'}, inplace=True)\n",
      "df_1988 = presidental_df.loc[(presidental_df['year'] == 1988),('Dvote','state')]\n",
      "df_1988.rename(columns={'Dvote':'Dvote1988'}, inplace=True)\n",
      "df_1984_1988 = merge(df_1984, df_1988, on=('state'))\n",
      "fig, ax = plt.subplots()\n",
      "df_1984_1988.plot(x='Dvote1984',y='Dvote1988', kind='scatter', ax=ax)\n",
      "ax.set_xlabel('Dem vote by state (1984)')\n",
      "ax.set_ylabel('Dem vote by state (1988)')"
     ],
     "language": "python",
     "metadata": {},
     "outputs": [
      {
       "metadata": {},
       "output_type": "pyout",
       "prompt_number": 213,
       "text": [
        "<matplotlib.text.Text at 0x10b824e10>"
       ]
      },
      {
       "metadata": {},
       "output_type": "display_data",
       "png": "[encoded data removed]",
       "text": [
        "<matplotlib.figure.Figure at 0x10b77cd90>"
       ]
      }
     ],
     "prompt_number": 213
    },
    {
     "cell_type": "markdown",
     "metadata": {},
     "source": [
      "Below, the same analysis done for 1972 & 1976 year pair.  Here it is shown that the pattern is not very linear, but it is also pointed out in the text that outlier states are in Jimmy Carter's home region, hinting us that we may have to take home regions as features of the model."
     ]
    },
    {
     "cell_type": "code",
     "collapsed": false,
     "input": [
      "df_1972 = presidental_df.loc[(presidental_df['year'] == 1972),('Dvote','state')]\n",
      "df_1972.rename(columns={'Dvote':'Dvote1972'}, inplace=True)\n",
      "df_1976 = presidental_df.loc[(presidental_df['year'] == 1976),('Dvote','state')]\n",
      "df_1976.rename(columns={'Dvote':'Dvote1976'}, inplace=True)\n",
      "df_1972_1976 = merge(df_1972, df_1976, on=('state'))\n",
      "fig, ax = plt.subplots()\n",
      "df_1972_1976.plot(x='Dvote1972',y='Dvote1976', kind='scatter', ax=ax)\n",
      "ax.set_xlabel('Dem vote by state (1972)')\n",
      "ax.set_ylabel('Dem vote by state (1976)')"
     ],
     "language": "python",
     "metadata": {},
     "outputs": [
      {
       "metadata": {},
       "output_type": "pyout",
       "prompt_number": 214,
       "text": [
        "<matplotlib.text.Text at 0x10b8c0490>"
       ]
      },
      {
       "metadata": {},
       "output_type": "display_data",
       "png": "[encoded data removed]",
       "text": [
        "<matplotlib.figure.Figure at 0x10b8d51d0>"
       ]
      }
     ],
     "prompt_number": 214
    },
    {
     "cell_type": "code",
     "collapsed": false,
     "input": [
      "df_before1988 = presidental_df[presidental_df['year'] <= 1988].dropna(axis=0)"
     ],
     "language": "python",
     "metadata": {},
     "outputs": [],
     "prompt_number": 375
    },
    {
     "cell_type": "code",
     "collapsed": false,
     "input": [
      "X = matrix(df_before1988.iloc[:,4:].as_matrix())\n",
      "y = matrix(df_before1988.loc[:,('Dvote')].as_matrix()).T"
     ],
     "language": "python",
     "metadata": {},
     "outputs": [],
     "prompt_number": 376
    },
    {
     "cell_type": "code",
     "collapsed": false,
     "input": [
      "XtX = X.T * X\n",
      "Xty = X.T * y\n",
      "Q,R = numpy.linalg.qr(X)\n",
      "R_inv = np.linalg.inv(R)\n",
      "beta_hat = np.linalg.solve(R, Q.T * y)\n",
      "n = X.shape[0]\n",
      "k = X.shape[1]\n",
      "s_sq = (np.asarray(y - X * beta_hat) ** 2).sum() / (n-k)"
     ],
     "language": "python",
     "metadata": {},
     "outputs": [],
     "prompt_number": 377
    },
    {
     "cell_type": "code",
     "collapsed": false,
     "input": [
      "def rmse_nationwide(X, beta):\n",
      "    return sqrt(np.mean(Series(np.squeeze(np.asarray(y - X * beta)), \n",
      "                               np.asarray(df_before1988['year'])).groupby(level=0).mean() ** 2))\n",
      "rmse_nationwide(X, beta_hat)"
     ],
     "language": "python",
     "metadata": {},
     "outputs": [
      {
       "metadata": {},
       "output_type": "pyout",
       "prompt_number": 378,
       "text": [
        "0.010091015470474593"
       ]
      }
     ],
     "prompt_number": 378
    },
    {
     "cell_type": "code",
     "collapsed": false,
     "input": [
      "sample_num = 200\n",
      "for sample_index in range(sample_num):\n",
      "    sigma_sq = r_inv_chisquare(1, n-k, s_sq)[0]\n",
      "    sampled_beta = beta_hat + R_inv * np.asmatrix(np.random.normal(size=k)).T * sqrt(sigma_sq)\n",
      "    print rmse_nationwide(X, sampled_beta)"
     ],
     "language": "python",
     "metadata": {},
     "outputs": [
      {
       "output_type": "stream",
       "stream": "stdout",
       "text": [
        "0.0105012993504\n",
        "0.0105571660239\n",
        "0.0108974464576\n",
        "0.0105500852592\n",
        "0.0109528589914\n",
        "0.0119437054432\n",
        "0.0111094317349\n",
        "0.0107950021243\n",
        "0.0112043447008\n",
        "0.0107151574146\n",
        "0.0103129183289\n",
        "0.0114686314944\n",
        "0.0110975230153\n",
        "0.0122906753092\n",
        "0.0106320380048\n",
        "0.0104206030337\n",
        "0.0109658891568\n",
        "0.0100603495319\n",
        "0.00997905249437\n",
        "0.01035597642\n",
        "0.0111023585391\n",
        "0.012416151794\n",
        "0.0110433682748\n",
        "0.0113201983525\n",
        "0.0104637093115\n",
        "0.0116146837759\n",
        "0.0110680591086\n",
        "0.0103142788935\n",
        "0.010759081429\n",
        "0.0102568537158\n",
        "0.0109144834054\n",
        "0.0121626027623\n",
        "0.0109565350665\n",
        "0.0109100517866\n",
        "0.0104972029043\n",
        "0.0106412615232\n",
        "0.010643454834\n",
        "0.010554690411\n",
        "0.00982910632579\n",
        "0.0115543396912\n",
        "0.0109950362202\n",
        "0.0101068354677\n",
        "0.0100467844534\n",
        "0.0117495418665\n",
        "0.0118769719028\n",
        "0.0110221957458\n",
        "0.0103191600618\n",
        "0.0107403769985\n",
        "0.0100079993655\n",
        "0.0107664708892\n",
        "0.0110016742763\n",
        "0.0108224181166\n",
        "0.0106069698475\n",
        "0.0116968912754\n",
        "0.0112446652651"
       ]
      },
      {
       "output_type": "stream",
       "stream": "stdout",
       "text": [
        "\n",
        "0.0108307125081\n",
        "0.0100703796145\n",
        "0.0105900938491\n",
        "0.01090886208\n",
        "0.0104651806458\n",
        "0.0112351590204\n",
        "0.0115090948694\n",
        "0.0112024703639\n",
        "0.0111635332031\n",
        "0.0105350249894\n",
        "0.00992274314077\n",
        "0.0105924208717\n",
        "0.010193615557\n",
        "0.0102075481343\n",
        "0.0106186199161\n",
        "0.0103327075048\n",
        "0.0104822603826\n",
        "0.0120942951366\n",
        "0.0101475252936\n",
        "0.0105618802046\n",
        "0.0106032618972\n",
        "0.0115822487053\n",
        "0.010382713439\n",
        "0.010961666638\n",
        "0.0109989317087\n",
        "0.0120256884066\n",
        "0.0101771560632\n",
        "0.0105517437788\n",
        "0.0105781941982\n",
        "0.0108189150034\n",
        "0.00992983099281\n",
        "0.00996849984105\n",
        "0.0104252872306\n",
        "0.0112342799797\n",
        "0.0111715302119\n",
        "0.00998271041231\n",
        "0.0112808447439\n",
        "0.0101107916771\n",
        "0.0110596704113\n",
        "0.0108505610317\n",
        "0.0106154181326\n",
        "0.00991528819288\n",
        "0.0109037154174\n",
        "0.00970594168922\n",
        "0.0116644517924\n",
        "0.0107465039318\n",
        "0.0103789222624\n",
        "0.0108928585766\n",
        "0.0108166644726\n",
        "0.0107328360375\n",
        "0.0118584366795\n",
        "0.0107863611632\n",
        "0.00962304695779\n",
        "0.0108463784009\n",
        "0.0112710893902"
       ]
      },
      {
       "output_type": "stream",
       "stream": "stdout",
       "text": [
        "\n",
        "0.010252724436\n",
        "0.0100200735546\n",
        "0.0107656852859\n",
        "0.011225325882\n",
        "0.00998737098078\n",
        "0.0106518956773\n",
        "0.0101530496768\n",
        "0.0105647891166\n",
        "0.011677750409\n",
        "0.0110402145808\n",
        "0.0115060384918\n",
        "0.0111409782726\n",
        "0.0115561062857\n",
        "0.011223964278\n",
        "0.0117854962295\n",
        "0.0114034444385\n",
        "0.0112574604214\n",
        "0.0104806735019\n",
        "0.0100953920621\n",
        "0.011533625491\n",
        "0.0107154348\n",
        "0.0106778087523\n",
        "0.0105369033095\n",
        "0.0114527271916\n",
        "0.0106241105769\n",
        "0.0110910688325\n",
        "0.0111382476813\n",
        "0.0125379764025\n",
        "0.0105093706141\n",
        "0.0106957145145\n",
        "0.00996234932427\n",
        "0.0110170487769\n",
        "0.0110859275241\n",
        "0.00994027149741\n",
        "0.0108896775015\n",
        "0.0105370271828\n",
        "0.0102110268866\n",
        "0.0106011318861\n",
        "0.00994817383224\n",
        "0.0105481020639\n",
        "0.0111850402845\n",
        "0.0112007127255\n",
        "0.0102017425336\n",
        "0.00995873542878\n",
        "0.0112106264617\n",
        "0.0112532547529\n",
        "0.0106259573787\n",
        "0.0108780277891\n",
        "0.0109425996434\n",
        "0.00993535367449\n",
        "0.0117751226321\n",
        "0.0113211038437\n",
        "0.0102245074588\n",
        "0.0110085659635\n",
        "0.0101435213424\n",
        "0.0112147141619\n",
        "0.0105849974489\n",
        "0.0101532694082"
       ]
      },
      {
       "output_type": "stream",
       "stream": "stdout",
       "text": [
        "\n",
        "0.0113873596138\n",
        "0.0106097314952\n",
        "0.0111855287438\n",
        "0.00985564024476\n",
        "0.0109933862234\n",
        "0.0105780079381\n",
        "0.0116875404236\n",
        "0.0103702452507\n",
        "0.0105314115798\n",
        "0.0107064344132\n",
        "0.0100185511039\n",
        "0.0101767138012\n",
        "0.00972171558747\n",
        "0.00960754247622\n",
        "0.0105970334174\n",
        "0.0124513986092\n",
        "0.0112920274451\n",
        "0.0112812459354\n",
        "0.0100899440391\n",
        "0.0112303244031\n",
        "0.0108926260351\n",
        "0.0108295958231\n",
        "0.0110957771208\n",
        "0.0106648329722\n",
        "0.0108231509324\n",
        "0.0115054943941\n",
        "0.0104701246301\n",
        "0.0104350610389\n",
        "0.011587356419\n",
        "0.0109149279657\n",
        "0.0107526165361\n",
        "0.0106107718705\n"
       ]
      }
     ],
     "prompt_number": 381
    },
    {
     "cell_type": "code",
     "collapsed": false,
     "input": [
      "plt.hist(y - X * beta_hat)"
     ],
     "language": "python",
     "metadata": {},
     "outputs": [
      {
       "metadata": {},
       "output_type": "pyout",
       "prompt_number": 380,
       "text": [
        "(array([   3.,   28.,   49.,   87.,  117.,  100.,   77.,   34.,   10.,    6.]),\n",
        " array([-0.09837629, -0.0778679 , -0.0573595 , -0.03685111, -0.01634272,\n",
        "         0.00416568,  0.02467407,  0.04518246,  0.06569086,  0.08619925,\n",
        "         0.10670764]),\n",
        " <a list of 10 Patch objects>)"
       ]
      },
      {
       "metadata": {},
       "output_type": "display_data",
       "png": "[encoded data removed]",
       "text": [
        "<matplotlib.figure.Figure at 0x10bfb29d0>"
       ]
      }
     ],
     "prompt_number": 380
    },
    {
     "cell_type": "code",
     "collapsed": false,
     "input": [
      "plt.scatter(X * beta_hat, y - X * beta_hat)"
     ],
     "language": "python",
     "metadata": {},
     "outputs": [
      {
       "metadata": {},
       "output_type": "pyout",
       "prompt_number": 368,
       "text": [
        "<matplotlib.collections.PathCollection at 0x10c00a410>"
       ]
      },
      {
       "metadata": {},
       "output_type": "display_data",
       "png": "[encoded data removed]",
       "text": [
        "<matplotlib.figure.Figure at 0x10bdbccd0>"
       ]
      }
     ],
     "prompt_number": 368
    },
    {
     "cell_type": "code",
     "collapsed": false,
     "input": [],
     "language": "python",
     "metadata": {},
     "outputs": []
    }
   ],
   "metadata": {}
  }
 ]
}