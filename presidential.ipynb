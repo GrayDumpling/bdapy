{
 "metadata": {
  "name": "",
  "signature": "sha256:227e67016d3c4d454ef1c0a33aa3827d37e643b7c3269ef4c8a2fcf8c5967a27"
 },
 "nbformat": 3,
 "nbformat_minor": 0,
 "worksheets": [
  {
   "cells": [
    {
     "cell_type": "markdown",
     "metadata": {},
     "source": [
      "# Forecasting Presidential Elections (BDA 15.2) #\n",
      "\n",
      "In this notebook, we learn about the advantage of using hierarchical linear model as opposed to non-hierarchical model, by building a forecasting model for presidential elections.  \n"
     ]
    },
    {
     "cell_type": "code",
     "collapsed": false,
     "input": [
      "% pylab inline\n",
      "from pandas import *\n",
      "\n",
      "np.random.seed(13571)\n",
      "\n",
      "# define sampler for inverse chi-squared distribution\n",
      "def r_inv_chisquare(size, df, scale_sq):\n",
      "    return df * scale_sq / np.random.chisquare(df, size)"
     ],
     "language": "python",
     "metadata": {},
     "outputs": [
      {
       "output_type": "stream",
       "stream": "stdout",
       "text": [
        "Populating the interactive namespace from numpy and matplotlib\n"
       ]
      }
     ],
     "prompt_number": 1
    },
    {
     "cell_type": "markdown",
     "metadata": {},
     "source": [
      "Again, the data is from BDA book's homepage.  Somehow the below command does not work if engine=\"c\", which is a default value.  Very frustrating!"
     ]
    },
    {
     "cell_type": "code",
     "collapsed": false,
     "input": [
      "# I could not figure out how to do this in \"c\" engine.  how frustrating!\n",
      "presidental_df = read_csv(\"http://www.stat.columbia.edu/~gelman/book/data/presidential.asc\",\n",
      "                          skiprows=28, delimiter=r\"\\s+\", engine=\"python\")"
     ],
     "language": "python",
     "metadata": {},
     "outputs": [],
     "prompt_number": 2
    },
    {
     "cell_type": "code",
     "collapsed": false,
     "input": [
      "presidental_df.head()"
     ],
     "language": "python",
     "metadata": {},
     "outputs": [
      {
       "html": [
        "<div style=\"max-height:1000px;max-width:1500px;overflow:auto;\">\n",
        "<table border=\"1\" class=\"dataframe\">\n",
        "  <thead>\n",
        "    <tr style=\"text-align: right;\">\n",
        "      <th></th>\n",
        "      <th>Dvote</th>\n",
        "      <th>year</th>\n",
        "      <th>state</th>\n",
        "      <th>evotes</th>\n",
        "      <th>constant</th>\n",
        "      <th>n1</th>\n",
        "      <th>n2</th>\n",
        "      <th>n3</th>\n",
        "      <th>n4</th>\n",
        "      <th>s1</th>\n",
        "      <th>...</th>\n",
        "      <th>s6</th>\n",
        "      <th>s7</th>\n",
        "      <th>s8</th>\n",
        "      <th>s9</th>\n",
        "      <th>r1</th>\n",
        "      <th>r2</th>\n",
        "      <th>r3</th>\n",
        "      <th>r4</th>\n",
        "      <th>r5</th>\n",
        "      <th>r6</th>\n",
        "    </tr>\n",
        "  </thead>\n",
        "  <tbody>\n",
        "    <tr>\n",
        "      <th>0</th>\n",
        "      <td> 0.462334</td>\n",
        "      <td> 1992</td>\n",
        "      <td> 1</td>\n",
        "      <td>  9</td>\n",
        "      <td> 1</td>\n",
        "      <td> 0.575</td>\n",
        "      <td>-0.37</td>\n",
        "      <td>-0.37</td>\n",
        "      <td>-0.345</td>\n",
        "      <td>-0.058</td>\n",
        "      <td>...</td>\n",
        "      <td>-0.608585</td>\n",
        "      <td>-0.5169</td>\n",
        "      <td>-0.110199</td>\n",
        "      <td> 0</td>\n",
        "      <td> 1</td>\n",
        "      <td> 0</td>\n",
        "      <td> 0</td>\n",
        "      <td> 0</td>\n",
        "      <td> 0</td>\n",
        "      <td> 0</td>\n",
        "    </tr>\n",
        "    <tr>\n",
        "      <th>1</th>\n",
        "      <td> 0.436794</td>\n",
        "      <td> 1992</td>\n",
        "      <td> 2</td>\n",
        "      <td>  3</td>\n",
        "      <td> 1</td>\n",
        "      <td> 0.575</td>\n",
        "      <td>-0.37</td>\n",
        "      <td>-0.37</td>\n",
        "      <td>-0.345</td>\n",
        "      <td>-0.084</td>\n",
        "      <td>...</td>\n",
        "      <td>-0.608585</td>\n",
        "      <td> 0.2181</td>\n",
        "      <td>-0.170000</td>\n",
        "      <td> 0</td>\n",
        "      <td> 0</td>\n",
        "      <td> 0</td>\n",
        "      <td> 0</td>\n",
        "      <td> 0</td>\n",
        "      <td> 0</td>\n",
        "      <td> 0</td>\n",
        "    </tr>\n",
        "    <tr>\n",
        "      <th>2</th>\n",
        "      <td> 0.489230</td>\n",
        "      <td> 1992</td>\n",
        "      <td> 3</td>\n",
        "      <td>  8</td>\n",
        "      <td> 1</td>\n",
        "      <td> 0.575</td>\n",
        "      <td>-0.37</td>\n",
        "      <td>-0.37</td>\n",
        "      <td>-0.345</td>\n",
        "      <td>-0.068</td>\n",
        "      <td>...</td>\n",
        "      <td> 0.691415</td>\n",
        "      <td>-0.3627</td>\n",
        "      <td>-0.170000</td>\n",
        "      <td> 0</td>\n",
        "      <td> 0</td>\n",
        "      <td> 0</td>\n",
        "      <td> 0</td>\n",
        "      <td> 0</td>\n",
        "      <td> 0</td>\n",
        "      <td> 0</td>\n",
        "    </tr>\n",
        "    <tr>\n",
        "      <th>3</th>\n",
        "      <td> 0.598887</td>\n",
        "      <td> 1992</td>\n",
        "      <td> 4</td>\n",
        "      <td>  6</td>\n",
        "      <td> 1</td>\n",
        "      <td> 0.575</td>\n",
        "      <td>-0.37</td>\n",
        "      <td>-0.37</td>\n",
        "      <td>-0.345</td>\n",
        "      <td>-0.033</td>\n",
        "      <td>...</td>\n",
        "      <td>-1.408585</td>\n",
        "      <td>-0.2121</td>\n",
        "      <td>-0.050335</td>\n",
        "      <td> 0</td>\n",
        "      <td> 1</td>\n",
        "      <td> 0</td>\n",
        "      <td> 0</td>\n",
        "      <td> 0</td>\n",
        "      <td> 0</td>\n",
        "      <td> 0</td>\n",
        "    </tr>\n",
        "    <tr>\n",
        "      <th>4</th>\n",
        "      <td> 0.590312</td>\n",
        "      <td> 1992</td>\n",
        "      <td> 5</td>\n",
        "      <td> 54</td>\n",
        "      <td> 1</td>\n",
        "      <td> 0.575</td>\n",
        "      <td>-0.37</td>\n",
        "      <td>-0.37</td>\n",
        "      <td>-0.345</td>\n",
        "      <td> 0.021</td>\n",
        "      <td>...</td>\n",
        "      <td> 0.991415</td>\n",
        "      <td> 0.1496</td>\n",
        "      <td> 0.109646</td>\n",
        "      <td> 0</td>\n",
        "      <td> 0</td>\n",
        "      <td> 0</td>\n",
        "      <td> 0</td>\n",
        "      <td> 0</td>\n",
        "      <td> 0</td>\n",
        "      <td> 0</td>\n",
        "    </tr>\n",
        "  </tbody>\n",
        "</table>\n",
        "<p>5 rows \u00d7 24 columns</p>\n",
        "</div>"
       ],
       "metadata": {},
       "output_type": "pyout",
       "prompt_number": 3,
       "text": [
        "      Dvote  year  state  evotes  constant     n1    n2    n3     n4     s1  \\\n",
        "0  0.462334  1992      1       9         1  0.575 -0.37 -0.37 -0.345 -0.058   \n",
        "1  0.436794  1992      2       3         1  0.575 -0.37 -0.37 -0.345 -0.084   \n",
        "2  0.489230  1992      3       8         1  0.575 -0.37 -0.37 -0.345 -0.068   \n",
        "3  0.598887  1992      4       6         1  0.575 -0.37 -0.37 -0.345 -0.033   \n",
        "4  0.590312  1992      5      54         1  0.575 -0.37 -0.37 -0.345  0.021   \n",
        "\n",
        "  ...        s6      s7        s8  s9  r1  r2  r3  r4  r5  r6  \n",
        "0 ... -0.608585 -0.5169 -0.110199   0   1   0   0   0   0   0  \n",
        "1 ... -0.608585  0.2181 -0.170000   0   0   0   0   0   0   0  \n",
        "2 ...  0.691415 -0.3627 -0.170000   0   0   0   0   0   0   0  \n",
        "3 ... -1.408585 -0.2121 -0.050335   0   1   0   0   0   0   0  \n",
        "4 ...  0.991415  0.1496  0.109646   0   0   0   0   0   0   0  \n",
        "\n",
        "[5 rows x 24 columns]"
       ]
      }
     ],
     "prompt_number": 3
    },
    {
     "cell_type": "markdown",
     "metadata": {},
     "source": [
      "The data looks like above.  For detailed description of each column, please look at skipped rows at the top of the file and the corresponding book chapter in BDA book; here we just consider ``constant``, ``n1`` to ``r6`` columns as given covariates.\n",
      "\n",
      "Here, we want to reproduce Figure 15.1, but unfortunately we cannot infer mapping from state indices to actual state names, so I am just showing points here.  The below plot shows how the share of democratic vote in 1984 is related to that in 1988; almost linear relationship is observed."
     ]
    },
    {
     "cell_type": "code",
     "collapsed": false,
     "input": [
      "df_1984 = presidental_df.loc[(presidental_df['year'] == 1984),('Dvote','state')]\n",
      "df_1984.rename(columns={'Dvote':'Dvote1984'}, inplace=True)\n",
      "df_1988 = presidental_df.loc[(presidental_df['year'] == 1988),('Dvote','state')]\n",
      "df_1988.rename(columns={'Dvote':'Dvote1988'}, inplace=True)\n",
      "df_1984_1988 = merge(df_1984, df_1988, on=('state'))\n",
      "fig, ax = plt.subplots()\n",
      "df_1984_1988.plot(x='Dvote1984',y='Dvote1988', kind='scatter', ax=ax)\n",
      "ax.set_xlabel('Dem vote by state (1984)')\n",
      "ax.set_ylabel('Dem vote by state (1988)')\n",
      "ax.set_aspect(1)"
     ],
     "language": "python",
     "metadata": {},
     "outputs": [
      {
       "metadata": {},
       "output_type": "display_data",
       "png": "[encoded data removed]",
       "text": [
        "<matplotlib.figure.Figure at 0x1034d0ad0>"
       ]
      }
     ],
     "prompt_number": 4
    },
    {
     "cell_type": "markdown",
     "metadata": {},
     "source": [
      "Below, the same analysis done for 1972 & 1976 year pair.  Here it is shown that the pattern is not very linear, but it is also pointed out in the text that outlier states are in Jimmy Carter's home region, hinting us that we may have to take home regions as features of the model."
     ]
    },
    {
     "cell_type": "code",
     "collapsed": false,
     "input": [
      "df_1972 = presidental_df.loc[(presidental_df['year'] == 1972),('Dvote','state')]\n",
      "df_1972.rename(columns={'Dvote':'Dvote1972'}, inplace=True)\n",
      "df_1976 = presidental_df.loc[(presidental_df['year'] == 1976),('Dvote','state')]\n",
      "df_1976.rename(columns={'Dvote':'Dvote1976'}, inplace=True)\n",
      "df_1972_1976 = merge(df_1972, df_1976, on=('state'))\n",
      "fig, ax = plt.subplots()\n",
      "df_1972_1976.plot(x='Dvote1972',y='Dvote1976', kind='scatter', ax=ax)\n",
      "ax.set_xlabel('Dem vote by state (1972)')\n",
      "ax.set_ylabel('Dem vote by state (1976)')\n",
      "ax.set_aspect(1)"
     ],
     "language": "python",
     "metadata": {},
     "outputs": [
      {
       "metadata": {},
       "output_type": "display_data",
       "png": "[encoded data removed]",
       "text": [
        "<matplotlib.figure.Figure at 0x1022e5590>"
       ]
      }
     ],
     "prompt_number": 5
    },
    {
     "cell_type": "markdown",
     "metadata": {},
     "source": [
      "Now, let us do the actual regression analysis to form a model.  We confine ourselves to years before 1992, and drop every row that contains missing values:"
     ]
    },
    {
     "cell_type": "code",
     "collapsed": false,
     "input": [
      "df_before1988 = presidental_df[presidental_df['year'] <= 1988].dropna(axis=0)"
     ],
     "language": "python",
     "metadata": {},
     "outputs": [],
     "prompt_number": 6
    },
    {
     "cell_type": "markdown",
     "metadata": {},
     "source": [
      "I generally do not like one-letter variables, but when doing regression analysis it is very tempting...!"
     ]
    },
    {
     "cell_type": "code",
     "collapsed": false,
     "input": [
      "# let us predict percentages instead of fractions\n",
      "X = matrix(df_before1988.iloc[:,4:].as_matrix())\n",
      "y = matrix(df_before1988.loc[:,('Dvote')].as_matrix()).T * 100"
     ],
     "language": "python",
     "metadata": {},
     "outputs": [],
     "prompt_number": 7
    },
    {
     "cell_type": "markdown",
     "metadata": {},
     "source": [
      "For linear regression, posterior distribution can be simply described by MLE."
     ]
    },
    {
     "cell_type": "code",
     "collapsed": false,
     "input": [
      "def linear_regression(X,y):\n",
      "    XtX = X.T * X\n",
      "    Xty = X.T * y\n",
      "    Q,R = numpy.linalg.qr(X)\n",
      "    R_inv = np.linalg.inv(R)\n",
      "    beta_hat = np.linalg.solve(R, Q.T * y)\n",
      "    n = X.shape[0]\n",
      "    k = X.shape[1]\n",
      "    s_sq = (np.asarray(y - X * beta_hat) ** 2).sum() / (n-k)\n",
      "    return beta_hat, s_sq\n",
      "\n",
      "beta_hat, s_sq = linear_regression(X,y)"
     ],
     "language": "python",
     "metadata": {},
     "outputs": [],
     "prompt_number": 8
    },
    {
     "cell_type": "markdown",
     "metadata": {},
     "source": [
      "Now we will be using national RMSE (root mean squared error) as test statistic for model checking.  Please refer to the book for the precise definition."
     ]
    },
    {
     "cell_type": "code",
     "collapsed": false,
     "input": [
      "def rmse_nationwide(X, y, beta):\n",
      "    return sqrt(np.mean(Series(np.squeeze(np.asarray(y - X * beta)), \n",
      "                               np.asarray(df_before1988['year'])).groupby(level=0).mean() ** 2))\n",
      "rmse_nationwide(X, y, beta_hat)"
     ],
     "language": "python",
     "metadata": {},
     "outputs": [
      {
       "metadata": {},
       "output_type": "pyout",
       "prompt_number": 9,
       "text": [
        "1.0091015470474629"
       ]
      }
     ],
     "prompt_number": 9
    },
    {
     "cell_type": "markdown",
     "metadata": {},
     "source": [
      "Now we sample 200 $\\beta, \\sigma^2$ parameters from the posterior distribution, generate new dependent variable $y^{\\text{rep}}$, and compare how the test statistic changes as $y$ is switched to $y^{\\text{rep}}$."
     ]
    },
    {
     "cell_type": "code",
     "collapsed": false,
     "input": [
      "sample_num = 200\n",
      "n = X.shape[0]; k = X.shape[1]\n",
      "Q,R = numpy.linalg.qr(X)\n",
      "R_inv = np.linalg.inv(R)\n",
      "\n",
      "original_rmses = []\n",
      "replicated_rmses = []\n",
      "\n",
      "for sample_index in range(sample_num):\n",
      "    sigma_sq = r_inv_chisquare(1, n-k, s_sq)[0]\n",
      "    sampled_beta = beta_hat + R_inv * np.asmatrix(np.random.normal(size=k)).T * sqrt(sigma_sq)\n",
      "    original_rmses.append(rmse_nationwide(X, y, sampled_beta))\n",
      "    sampled_y = X * sampled_beta + sqrt(sigma_sq) * np.asmatrix(np.random.normal(size=n)).T\n",
      "    replicated_rmses.append(rmse_nationwide(X, sampled_y, sampled_beta))"
     ],
     "language": "python",
     "metadata": {},
     "outputs": [],
     "prompt_number": 10
    },
    {
     "cell_type": "code",
     "collapsed": false,
     "input": [
      "plt.scatter(original_rmses, replicated_rmses, marker='.', s=1)\n",
      "plt.xlim(0,1.5)\n",
      "plt.ylim(0,1.5)\n",
      "plt.plot([0,3], [0,3], color='k', linestyle='-', linewidth=1)\n",
      "plt.axes().set_aspect(1)\n",
      "plt.xlabel(r'$T(y,\\theta)$')\n",
      "plt.ylabel(r'$T(y^{rep},\\theta)$')"
     ],
     "language": "python",
     "metadata": {},
     "outputs": [
      {
       "metadata": {},
       "output_type": "pyout",
       "prompt_number": 11,
       "text": [
        "<matplotlib.text.Text at 0x1061f7590>"
       ]
      },
      {
       "metadata": {},
       "output_type": "display_data",
       "png": "[encoded data removed]",
       "text": [
        "<matplotlib.figure.Figure at 0x106127090>"
       ]
      }
     ],
     "prompt_number": 11
    },
    {
     "cell_type": "markdown",
     "metadata": {},
     "source": [
      "Above plot corresponds to Figure 15.2 in the book.  It can be seen that realized test variable is much smaller than that from replicated data; in other words, we might be underestimating the magnitude of prediction error.  Authors argue that this might be due to correlation of dependent variable within observations in the same year.  This motivates us to move on to hierarchical model.\n",
      "\n",
      "Note that the scale of this plot is not the same to that of Figure 15.2.  Please let me know if you find errors in my code!"
     ]
    },
    {
     "cell_type": "code",
     "collapsed": false,
     "input": [],
     "language": "python",
     "metadata": {},
     "outputs": [],
     "prompt_number": 11
    }
   ],
   "metadata": {}
  }
 ]
}