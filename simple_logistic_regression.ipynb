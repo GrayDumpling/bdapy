{
 "metadata": {
  "name": "",
  "signature": "sha256:6be800949d77e19facc4a6a9a9dba262cb22c63e95877b7f1c30982db668eb40"
 },
 "nbformat": 3,
 "nbformat_minor": 0,
 "worksheets": [
  {
   "cells": [
    {
     "cell_type": "markdown",
     "metadata": {},
     "source": [
      "# Simple Logistic Regression #\n",
      "\n",
      "Here, we consider simple logistic regression which has only one covariate variable.  Let $x_1, x_2, \\ldots, x_n$ be the covariate variable, $n_i$ be the number of trials in observation $i$, and $y_i$ be the number of \"success\".  The likelihood function can be written:\n",
      "$$\n",
      "p(y_i \\mid \\theta_1, \\theta_2, n_i, x_i) \\propto \n",
      "[\\text{logit}^{-1}(\\theta_1 + \\theta_2 x_i)]^{y_i}\n",
      "[1 - \\text{logit}^{-1}(\\theta_1 + \\theta_2 x_i)]^{n_i - y_i}\n",
      "$$\n",
      "For simplicity, uniform prior is assumed on $\\theta_1, \\theta_2$."
     ]
    },
    {
     "cell_type": "markdown",
     "metadata": {},
     "source": [
      "## Sampling from Grid (BDA 3.7) ##\n",
      "\n",
      "Since parameters are only two-dimensional, we can afford to approximate the posterior distribution on grid points."
     ]
    },
    {
     "cell_type": "code",
     "collapsed": false,
     "input": [
      "% pylab inline\n",
      "import numpy as np"
     ],
     "language": "python",
     "metadata": {},
     "outputs": [
      {
       "output_type": "stream",
       "stream": "stdout",
       "text": [
        "Populating the interactive namespace from numpy and matplotlib\n"
       ]
      },
      {
       "output_type": "stream",
       "stream": "stderr",
       "text": [
        "WARNING: pylab import has clobbered these variables: ['datetime', 'save', 'load', 'unique', 'info']\n",
        "`%matplotlib` prevents importing * from pylab and numpy\n"
       ]
      }
     ],
     "prompt_number": 9
    },
    {
     "cell_type": "markdown",
     "metadata": {},
     "source": [
      "First of all, here is the data we will use, from Racine et al. (1986)."
     ]
    },
    {
     "cell_type": "code",
     "collapsed": false,
     "input": [
      "# Data from Racine et al. (1986) \n",
      "from pandas import *\n",
      "bioassay_df = DataFrame({'dose':[-0.86,-0.30,-0.05,0.73],\n",
      "                         'animals':[5,5,5,5],\n",
      "                         'deaths':[0,1,3,5]\n",
      "                         })"
     ],
     "language": "python",
     "metadata": {},
     "outputs": [],
     "prompt_number": 2
    },
    {
     "cell_type": "markdown",
     "metadata": {},
     "source": [
      "To produce Figure 3.3 (a), we define a function that evaluates log-posterior function."
     ]
    },
    {
     "cell_type": "code",
     "collapsed": false,
     "input": [
      "def log_posterior_helper(theta_1, theta_2, trials, successes, covariates, log_prior = lambda t1, t2: 0):\n",
      "    ret = log_prior(theta_1, theta_2)\n",
      "    # first compute prediction scores\n",
      "    scores = theta_1 + theta_2 * covariates\n",
      "    # then convert it to log-likelihood\n",
      "    ret += np.sum(-np.log(1 + exp(-scores)) * successes - np.log(1 + exp(scores)) * (trials - successes ))\n",
      "    return ret\n",
      "log_posterior = \\\n",
      "    np.vectorize(log_posterior_helper, otypes=[np.float], excluded=[2,3,4,5])"
     ],
     "language": "python",
     "metadata": {},
     "outputs": [],
     "prompt_number": 16
    },
    {
     "cell_type": "code",
     "collapsed": false,
     "input": [
      "import pylab as pl\n",
      "grid_num = 64\n",
      "theta1_min = -4\n",
      "theta1_max = 10\n",
      "theta2_min = -10\n",
      "theta2_max = 40\n",
      "x = np.linspace(theta1_min, theta1_max, grid_num)\n",
      "y = np.linspace(theta2_min, theta2_max, grid_num)\n",
      "X, Y = np.meshgrid(x, y)\n",
      "log_Z = log_posterior(X,Y,bioassay_df.animals, bioassay_df.deaths, bioassay_df.dose)\n",
      "max_log_Z = log_Z.max()\n",
      "Z = np.exp(log_Z - max_log_Z) * np.exp(max_log_Z)\n",
      "levels=np.exp(max_log_Z) * np.linspace(0.05, 0.95, 10)\n",
      "pl.axes().set_aspect(float(theta1_max-theta1_min)/(theta2_max-theta2_min))\n",
      "pl.contourf(X, Y, Z, 8, alpha=.75, cmap='jet', \n",
      "            levels=np.exp(max_log_Z) * np.concatenate(([0], np.linspace(0.05, 0.95, 10), [1])))\n",
      "pl.contour(X, Y, Z, 8, colors='black', linewidth=.5, levels=levels)\n",
      "pl.axes().set_xlabel(r'$\\theta_1$')\n",
      "pl.axes().set_ylabel(r'$\\theta_2$')"
     ],
     "language": "python",
     "metadata": {},
     "outputs": [
      {
       "metadata": {},
       "output_type": "pyout",
       "prompt_number": 36,
       "text": [
        "<matplotlib.text.Text at 0x115a429d0>"
       ]
      },
      {
       "metadata": {},
       "output_type": "display_data",
       "png": "[encoded data removed]",
       "text": [
        "<matplotlib.figure.Figure at 0x1155e6390>"
       ]
      }
     ],
     "prompt_number": 36
    },
    {
     "cell_type": "markdown",
     "metadata": {},
     "source": [
      "Above is Figure 3.3 (a).  Since the grid is given, sampling from it is trivial."
     ]
    },
    {
     "cell_type": "code",
     "collapsed": false,
     "input": [
      "# seed the RNG\n",
      "np.random.seed(135791)\n",
      "# normalize the grid\n",
      "probs = np.ravel(Z)/np.sum(Z)\n",
      "# sample from the normalized distribution\n",
      "throws = np.random.choice(len(probs), 1000, p=probs)\n",
      "theta1s = x[throws % grid_num]\n",
      "theta2s = y[throws / grid_num]\n",
      "xgrid_size = float(theta1_max-theta1_min)/(grid_num-1)\n",
      "ygrid_size = float(theta2_max-theta2_min)/(grid_num-1)\n",
      "# add jittering\n",
      "theta1s += np.random.random(len(theta1s)) * xgrid_size - 0.5 * xgrid_size\n",
      "theta2s += np.random.random(len(theta2s)) * ygrid_size - 0.5 * ygrid_size\n",
      "pl.scatter(theta1s, theta2s, marker='.', s=1)\n",
      "pl.xlim(theta1_min, theta1_max)\n",
      "pl.ylim(theta2_min, theta2_max)\n",
      "pl.axes().set_aspect(float(theta1_max-theta1_min)/(theta2_max-theta2_min))\n",
      "pl.axes().set_xlabel(r'$\\theta_1$')\n",
      "pl.axes().set_ylabel(r'$\\theta_2$')\n",
      "pl.show()"
     ],
     "language": "python",
     "metadata": {},
     "outputs": [
      {
       "metadata": {},
       "output_type": "display_data",
       "png": "[encoded data removed]",
       "text": [
        "<matplotlib.figure.Figure at 0x115f85390>"
       ]
      }
     ],
     "prompt_number": 42
    },
    {
     "cell_type": "markdown",
     "metadata": {},
     "source": [
      "It is trivial to convert these parameters to LD50 to get Figure 3.4."
     ]
    },
    {
     "cell_type": "code",
     "collapsed": false,
     "input": [
      "pl.hist(-theta1s/theta2s, bins=20)\n",
      "pl.axes().set_xlabel('LD50')\n",
      "pl.axes().get_yaxis().set_visible(False)"
     ],
     "language": "python",
     "metadata": {},
     "outputs": [
      {
       "metadata": {},
       "output_type": "display_data",
       "png": "[encoded data removed]",
       "text": [
        "<matplotlib.figure.Figure at 0x115fa0810>"
       ]
      }
     ],
     "prompt_number": 50
    },
    {
     "cell_type": "markdown",
     "metadata": {},
     "source": [
      "## Asymptotic Approximation (BDA 4.1) ## \n",
      "\n",
      "Alternatively, we can find the mode of the distribution, and use normal approximation at the mode.  For small problems like this, we can even avoid computing the actual gradient/Hessian by using numerical methods."
     ]
    },
    {
     "cell_type": "code",
     "collapsed": false,
     "input": [
      "import scipy.optimize"
     ],
     "language": "python",
     "metadata": {},
     "outputs": [],
     "prompt_number": 55
    },
    {
     "cell_type": "code",
     "collapsed": false,
     "input": [
      "# since I am lazy, let's use gradient-free optimization although analytic formula is available\n",
      "res = scipy.optimize.minimize(lambda x: -log_posterior(x[0],x[1],bioassay_df.animals, bioassay_df.deaths, bioassay_df.dose), \n",
      "                              (0,0))"
     ],
     "language": "python",
     "metadata": {},
     "outputs": [],
     "prompt_number": 73
    },
    {
     "cell_type": "code",
     "collapsed": false,
     "input": [
      "theta_mode = res.x"
     ],
     "language": "python",
     "metadata": {},
     "outputs": [],
     "prompt_number": 100
    },
    {
     "cell_type": "code",
     "collapsed": false,
     "input": [
      "from scipy import linalg\n",
      "def log_asymp_posterior_helper(theta_1, theta_2):\n",
      "    theta_vec = np.matrix([theta_1,theta_2])\n",
      "    return -(theta_vec - theta_mode) * linalg.solve(res.hess_inv,(theta_vec - theta_mode).transpose())\n",
      "\n",
      "log_asymp_posterior = \\\n",
      "    np.vectorize(log_asymp_posterior_helper, otypes=[np.float])"
     ],
     "language": "python",
     "metadata": {},
     "outputs": [],
     "prompt_number": 108
    },
    {
     "cell_type": "markdown",
     "metadata": {},
     "source": [
      "Now Figure 4.1 (a) can be reproduced:"
     ]
    },
    {
     "cell_type": "code",
     "collapsed": false,
     "input": [
      "import pylab as pl\n",
      "grid_num = 64\n",
      "theta1_min = -4\n",
      "theta1_max = 10\n",
      "theta2_min = -10\n",
      "theta2_max = 40\n",
      "x = np.linspace(theta1_min, theta1_max, grid_num)\n",
      "y = np.linspace(theta2_min, theta2_max, grid_num)\n",
      "X, Y = np.meshgrid(x, y)\n",
      "log_Z = log_asymp_posterior(X,Y)\n",
      "max_log_Z = log_Z.max()\n",
      "Z = np.exp(log_Z - max_log_Z) * np.exp(max_log_Z)\n",
      "levels=np.exp(max_log_Z) * np.linspace(0.05, 0.95, 10)\n",
      "pl.axes().set_aspect(float(theta1_max-theta1_min)/(theta2_max-theta2_min))\n",
      "pl.contourf(X, Y, Z, 8, alpha=.75, cmap='jet', \n",
      "            levels=np.exp(max_log_Z) * np.concatenate(([0], np.linspace(0.05, 0.95, 10), [1])))\n",
      "pl.contour(X, Y, Z, 8, colors='black', linewidth=.5, levels=levels)\n",
      "pl.axes().set_xlabel(r'$\\theta_1$')\n",
      "pl.axes().set_ylabel(r'$\\theta_2$')"
     ],
     "language": "python",
     "metadata": {},
     "outputs": [
      {
       "metadata": {},
       "output_type": "pyout",
       "prompt_number": 109,
       "text": [
        "<matplotlib.text.Text at 0x117564710>"
       ]
      },
      {
       "metadata": {},
       "output_type": "display_data",
       "png": "[encoded data removed]",
       "text": [
        "<matplotlib.figure.Figure at 0x115006a10>"
       ]
      }
     ],
     "prompt_number": 109
    },
    {
     "cell_type": "code",
     "collapsed": false,
     "input": [],
     "language": "python",
     "metadata": {},
     "outputs": []
    }
   ],
   "metadata": {}
  }
 ]
}